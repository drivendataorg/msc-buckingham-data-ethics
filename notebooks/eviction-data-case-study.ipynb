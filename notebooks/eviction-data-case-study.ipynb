{
 "cells": [
  {
   "cell_type": "markdown",
   "metadata": {},
   "source": [
    "# Data Science Ethics Checklist"
   ]
  },
  {
   "cell_type": "markdown",
   "metadata": {},
   "source": [
    "[![Deon badge](https://img.shields.io/badge/ethics%20checklist-deon-brightgreen.svg?style=popout-square)](http://deon.drivendata.org/)"
   ]
  },
  {
   "cell_type": "markdown",
   "metadata": {},
   "source": [
    "> The goals of this notebook exercise are (1) to practice integrating the `deon` checklist into your code, and (2) to learn how to use a few basic data science tools in python.\n",
    "\n",
    "This notebook is for the Eviction Data Case Study exercise in the \"Actionable Ethics for Data Scientists\" workshop for the data science MSc at the University of Buckingham.\n",
    "\n",
    "Instructions\n",
    "\n",
    "- We'll walk through the notebook as a group, and break for independent work where there is a <span style=\"color:green\">**\\*\\*bolded green heading for \"Activity\" or \"Discussion\"\\*\\***</span>.\n",
    "\n",
    "- If you need help debugging during any of the exercises, post in the Teams thread for this workshop or send a direct message to one of the DrivenData team members. **We encourage you to work together!**\n",
    "\n",
    "- There is a more comprehensive version of the case study notebook in `notebooks/eviction-data-case-study-reference.ipynb`. You can refer to this if you are stumped during any of the coding exercises, but we strongly encourage solving problems on your own first!\n",
    "\n",
    "**We will not discuss every item on the deon checklist - items have been chosen that illustrate interesting points or coding challenges.** In real-world setting, you'll want to integrate the full deon checklist into your coding. You can see an example of this in the workshop repository.\n"
   ]
  },
  {
   "cell_type": "markdown",
   "metadata": {},
   "source": [
    "## Background"
   ]
  },
  {
   "cell_type": "markdown",
   "metadata": {},
   "source": [
    "Over the past five decades in the US, [housing costs have risen faster than incomes](http://www.jchs.harvard.edu/state-nations-housing-2018), low-cost housing has been disappearing from the market, and racial disparities in homeownership rates have deepened. This has put many in a perilous situation. As the [Eviction Lab](https://evictionlab.org/why-eviction-matters/#affordable-housing-crisis) explains:\n",
    "\n",
    "> Today, most poor renting families spend at least half of their income on housing costs, with one in four of those families spending over 70 percent of their income just on rent and utilities. Only one in four families who qualify for affordable housing programs get any kind of help. Under those conditions, it has become harder for low-income families to keep up with rent and utility costs, and a growing number are living one misstep or emergency away from eviction.\n"
   ]
  },
  {
   "cell_type": "markdown",
   "metadata": {},
   "source": [
    "## Objective"
   ]
  },
  {
   "cell_type": "markdown",
   "metadata": {},
   "source": [
    "A non-profit dedicated to helping people at risk of eviction in California has tasked us to build a model to estimate the number of eviction cases by geography, based on socioeconomic data. They would like to use these estimates to help them prioritize where to commit funding and resources."
   ]
  },
  {
   "cell_type": "markdown",
   "metadata": {},
   "source": [
    "We will be using a subset of the eviction dataset published by the [Eviction Lab](https://evictionlab.org/) at Princeton University. The subset is the census-tract-level aggregates for only tracts in the state of California. \n",
    "\n",
    "*FYI:* [Census tracts](https://www.census.gov/programs-surveys/geography/about/glossary.html#:~:text=Census%20tracts%20generally%20have%20a,on%20the%20density%20of%20settlement.) are small, relatively permanent geographic areas used in the U.S. census. A tract generally has a population between 1,200 and 8,000."
   ]
  },
  {
   "cell_type": "markdown",
   "metadata": {},
   "source": [
    "## Set up\n",
    "\n",
    "Import necessary python packages"
   ]
  },
  {
   "cell_type": "code",
   "execution_count": 1,
   "metadata": {},
   "outputs": [
    {
     "data": {
      "application/javascript": [
       "\n",
       "            setTimeout(function() {\n",
       "                var nbb_cell_id = 1;\n",
       "                var nbb_unformatted_code = \"%load_ext nb_black\";\n",
       "                var nbb_formatted_code = \"%load_ext nb_black\";\n",
       "                var nbb_cells = Jupyter.notebook.get_cells();\n",
       "                for (var i = 0; i < nbb_cells.length; ++i) {\n",
       "                    if (nbb_cells[i].input_prompt_number == nbb_cell_id) {\n",
       "                        if (nbb_cells[i].get_text() == nbb_unformatted_code) {\n",
       "                             nbb_cells[i].set_text(nbb_formatted_code);\n",
       "                        }\n",
       "                        break;\n",
       "                    }\n",
       "                }\n",
       "            }, 500);\n",
       "            "
      ],
      "text/plain": [
       "<IPython.core.display.Javascript object>"
      ]
     },
     "metadata": {},
     "output_type": "display_data"
    }
   ],
   "source": [
    "%load_ext nb_black"
   ]
  },
  {
   "cell_type": "code",
   "execution_count": 2,
   "metadata": {},
   "outputs": [
    {
     "data": {
      "application/javascript": [
       "\n",
       "            setTimeout(function() {\n",
       "                var nbb_cell_id = 2;\n",
       "                var nbb_unformatted_code = \"import matplotlib.pyplot as plt\\nimport numpy as np\\nimport os.path\\nimport pandas as pd\\nimport seaborn as sns\\nimport wget\\n\\n%matplotlib inline\\npd.set_option(\\\"display.max_columns\\\", 30)\";\n",
       "                var nbb_formatted_code = \"import matplotlib.pyplot as plt\\nimport numpy as np\\nimport os.path\\nimport pandas as pd\\nimport seaborn as sns\\nimport wget\\n\\n%matplotlib inline\\npd.set_option(\\\"display.max_columns\\\", 30)\";\n",
       "                var nbb_cells = Jupyter.notebook.get_cells();\n",
       "                for (var i = 0; i < nbb_cells.length; ++i) {\n",
       "                    if (nbb_cells[i].input_prompt_number == nbb_cell_id) {\n",
       "                        if (nbb_cells[i].get_text() == nbb_unformatted_code) {\n",
       "                             nbb_cells[i].set_text(nbb_formatted_code);\n",
       "                        }\n",
       "                        break;\n",
       "                    }\n",
       "                }\n",
       "            }, 500);\n",
       "            "
      ],
      "text/plain": [
       "<IPython.core.display.Javascript object>"
      ]
     },
     "metadata": {},
     "output_type": "display_data"
    }
   ],
   "source": [
    "import matplotlib.pyplot as plt\n",
    "import numpy as np\n",
    "import os.path\n",
    "import pandas as pd\n",
    "import seaborn as sns\n",
    "import wget\n",
    "\n",
    "%matplotlib inline\n",
    "pd.set_option(\"display.max_columns\", 30)"
   ]
  },
  {
   "cell_type": "markdown",
   "metadata": {},
   "source": [
    "## Loading the Data"
   ]
  },
  {
   "cell_type": "code",
   "execution_count": 3,
   "metadata": {},
   "outputs": [
    {
     "data": {
      "application/javascript": [
       "\n",
       "            setTimeout(function() {\n",
       "                var nbb_cell_id = 3;\n",
       "                var nbb_unformatted_code = \"# load the data from where we have it saved online\\nDATA_URL = \\\"https://drivendata-public-assets.s3.amazonaws.com/odsc-west-2019/california-tracts.csv\\\"\\nDATA_PATH = \\\"../data/raw/california-tracts.csv\\\"\\n\\n# Set standard fig size for plots\\nFIGSIZE = (10, 10)\";\n",
       "                var nbb_formatted_code = \"# load the data from where we have it saved online\\nDATA_URL = \\\"https://drivendata-public-assets.s3.amazonaws.com/odsc-west-2019/california-tracts.csv\\\"\\nDATA_PATH = \\\"../data/raw/california-tracts.csv\\\"\\n\\n# Set standard fig size for plots\\nFIGSIZE = (10, 10)\";\n",
       "                var nbb_cells = Jupyter.notebook.get_cells();\n",
       "                for (var i = 0; i < nbb_cells.length; ++i) {\n",
       "                    if (nbb_cells[i].input_prompt_number == nbb_cell_id) {\n",
       "                        if (nbb_cells[i].get_text() == nbb_unformatted_code) {\n",
       "                             nbb_cells[i].set_text(nbb_formatted_code);\n",
       "                        }\n",
       "                        break;\n",
       "                    }\n",
       "                }\n",
       "            }, 500);\n",
       "            "
      ],
      "text/plain": [
       "<IPython.core.display.Javascript object>"
      ]
     },
     "metadata": {},
     "output_type": "display_data"
    }
   ],
   "source": [
    "# load the data from where we have it saved online\n",
    "DATA_URL = \"https://drivendata-public-assets.s3.amazonaws.com/odsc-west-2019/california-tracts.csv\"\n",
    "DATA_PATH = \"../data/raw/california-tracts.csv\"\n",
    "\n",
    "# Set standard fig size for plots\n",
    "FIGSIZE = (10, 10)"
   ]
  },
  {
   "cell_type": "code",
   "execution_count": 4,
   "metadata": {},
   "outputs": [
    {
     "data": {
      "application/javascript": [
       "\n",
       "            setTimeout(function() {\n",
       "                var nbb_cell_id = 4;\n",
       "                var nbb_unformatted_code = \"if not os.path.exists(DATA_PATH):\\n    # Download data\\n    wget.download(url=DATA_URL, out=DATA_PATH)\";\n",
       "                var nbb_formatted_code = \"if not os.path.exists(DATA_PATH):\\n    # Download data\\n    wget.download(url=DATA_URL, out=DATA_PATH)\";\n",
       "                var nbb_cells = Jupyter.notebook.get_cells();\n",
       "                for (var i = 0; i < nbb_cells.length; ++i) {\n",
       "                    if (nbb_cells[i].input_prompt_number == nbb_cell_id) {\n",
       "                        if (nbb_cells[i].get_text() == nbb_unformatted_code) {\n",
       "                             nbb_cells[i].set_text(nbb_formatted_code);\n",
       "                        }\n",
       "                        break;\n",
       "                    }\n",
       "                }\n",
       "            }, 500);\n",
       "            "
      ],
      "text/plain": [
       "<IPython.core.display.Javascript object>"
      ]
     },
     "metadata": {},
     "output_type": "display_data"
    }
   ],
   "source": [
    "if not os.path.exists(DATA_PATH):\n",
    "    # Download data\n",
    "    wget.download(url=DATA_URL, out=DATA_PATH)"
   ]
  },
  {
   "cell_type": "markdown",
   "metadata": {},
   "source": [
    "#### Exploratory data analysis"
   ]
  },
  {
   "cell_type": "code",
   "execution_count": 5,
   "metadata": {},
   "outputs": [
    {
     "name": "stdout",
     "output_type": "stream",
     "text": [
      "Data shape: (136958, 27)\n",
      "\n",
      "Data types:\n",
      " GEOID                           int64\n",
      "year                            int64\n",
      "name                          float64\n",
      "parent-location                object\n",
      "population                    float64\n",
      "poverty-rate                  float64\n",
      "renter-occupied-households    float64\n",
      "pct-renter-occupied           float64\n",
      "median-gross-rent             float64\n",
      "median-household-income       float64\n",
      "median-property-value         float64\n",
      "rent-burden                   float64\n",
      "pct-white                     float64\n",
      "pct-af-am                     float64\n",
      "pct-hispanic                  float64\n",
      "pct-am-ind                    float64\n",
      "pct-asian                     float64\n",
      "pct-nh-pi                     float64\n",
      "pct-multiple                  float64\n",
      "pct-other                     float64\n",
      "eviction-filings              float64\n",
      "evictions                     float64\n",
      "eviction-rate                 float64\n",
      "eviction-filing-rate          float64\n",
      "low-flag                        int64\n",
      "imputed                         int64\n",
      "subbed                          int64\n",
      "dtype: object\n"
     ]
    },
    {
     "data": {
      "text/html": [
       "<div>\n",
       "<style scoped>\n",
       "    .dataframe tbody tr th:only-of-type {\n",
       "        vertical-align: middle;\n",
       "    }\n",
       "\n",
       "    .dataframe tbody tr th {\n",
       "        vertical-align: top;\n",
       "    }\n",
       "\n",
       "    .dataframe thead th {\n",
       "        text-align: right;\n",
       "    }\n",
       "</style>\n",
       "<table border=\"1\" class=\"dataframe\">\n",
       "  <thead>\n",
       "    <tr style=\"text-align: right;\">\n",
       "      <th></th>\n",
       "      <th>GEOID</th>\n",
       "      <th>year</th>\n",
       "      <th>name</th>\n",
       "      <th>parent-location</th>\n",
       "      <th>population</th>\n",
       "      <th>poverty-rate</th>\n",
       "      <th>renter-occupied-households</th>\n",
       "      <th>pct-renter-occupied</th>\n",
       "      <th>median-gross-rent</th>\n",
       "      <th>median-household-income</th>\n",
       "      <th>median-property-value</th>\n",
       "      <th>rent-burden</th>\n",
       "      <th>pct-white</th>\n",
       "      <th>pct-af-am</th>\n",
       "      <th>pct-hispanic</th>\n",
       "      <th>pct-am-ind</th>\n",
       "      <th>pct-asian</th>\n",
       "      <th>pct-nh-pi</th>\n",
       "      <th>pct-multiple</th>\n",
       "      <th>pct-other</th>\n",
       "      <th>eviction-filings</th>\n",
       "      <th>evictions</th>\n",
       "      <th>eviction-rate</th>\n",
       "      <th>eviction-filing-rate</th>\n",
       "      <th>low-flag</th>\n",
       "      <th>imputed</th>\n",
       "      <th>subbed</th>\n",
       "    </tr>\n",
       "  </thead>\n",
       "  <tbody>\n",
       "    <tr>\n",
       "      <th>0</th>\n",
       "      <td>6001400100</td>\n",
       "      <td>2000</td>\n",
       "      <td>4001.0</td>\n",
       "      <td>Alameda County, California</td>\n",
       "      <td>2497.87</td>\n",
       "      <td>2.93</td>\n",
       "      <td>108.0</td>\n",
       "      <td>9.43</td>\n",
       "      <td>1913.0</td>\n",
       "      <td>133272.0</td>\n",
       "      <td>695900.0</td>\n",
       "      <td>22.8</td>\n",
       "      <td>77.54</td>\n",
       "      <td>4.56</td>\n",
       "      <td>3.88</td>\n",
       "      <td>0.16</td>\n",
       "      <td>11.21</td>\n",
       "      <td>0.2</td>\n",
       "      <td>2.2</td>\n",
       "      <td>0.24</td>\n",
       "      <td>0.0</td>\n",
       "      <td>0.0</td>\n",
       "      <td>0.00</td>\n",
       "      <td>0.00</td>\n",
       "      <td>1</td>\n",
       "      <td>0</td>\n",
       "      <td>0</td>\n",
       "    </tr>\n",
       "    <tr>\n",
       "      <th>1</th>\n",
       "      <td>6001400100</td>\n",
       "      <td>2001</td>\n",
       "      <td>4001.0</td>\n",
       "      <td>Alameda County, California</td>\n",
       "      <td>2497.87</td>\n",
       "      <td>2.93</td>\n",
       "      <td>117.0</td>\n",
       "      <td>9.43</td>\n",
       "      <td>1913.0</td>\n",
       "      <td>133272.0</td>\n",
       "      <td>695900.0</td>\n",
       "      <td>22.8</td>\n",
       "      <td>77.54</td>\n",
       "      <td>4.56</td>\n",
       "      <td>3.88</td>\n",
       "      <td>0.16</td>\n",
       "      <td>11.21</td>\n",
       "      <td>0.2</td>\n",
       "      <td>2.2</td>\n",
       "      <td>0.24</td>\n",
       "      <td>1.0</td>\n",
       "      <td>0.0</td>\n",
       "      <td>0.00</td>\n",
       "      <td>0.86</td>\n",
       "      <td>1</td>\n",
       "      <td>0</td>\n",
       "      <td>0</td>\n",
       "    </tr>\n",
       "    <tr>\n",
       "      <th>2</th>\n",
       "      <td>6001400100</td>\n",
       "      <td>2002</td>\n",
       "      <td>4001.0</td>\n",
       "      <td>Alameda County, California</td>\n",
       "      <td>2497.87</td>\n",
       "      <td>2.93</td>\n",
       "      <td>126.0</td>\n",
       "      <td>9.43</td>\n",
       "      <td>1913.0</td>\n",
       "      <td>133272.0</td>\n",
       "      <td>695900.0</td>\n",
       "      <td>22.8</td>\n",
       "      <td>77.54</td>\n",
       "      <td>4.56</td>\n",
       "      <td>3.88</td>\n",
       "      <td>0.16</td>\n",
       "      <td>11.21</td>\n",
       "      <td>0.2</td>\n",
       "      <td>2.2</td>\n",
       "      <td>0.24</td>\n",
       "      <td>1.0</td>\n",
       "      <td>1.0</td>\n",
       "      <td>0.80</td>\n",
       "      <td>0.80</td>\n",
       "      <td>1</td>\n",
       "      <td>0</td>\n",
       "      <td>0</td>\n",
       "    </tr>\n",
       "    <tr>\n",
       "      <th>3</th>\n",
       "      <td>6001400100</td>\n",
       "      <td>2003</td>\n",
       "      <td>4001.0</td>\n",
       "      <td>Alameda County, California</td>\n",
       "      <td>2497.87</td>\n",
       "      <td>2.93</td>\n",
       "      <td>134.0</td>\n",
       "      <td>9.43</td>\n",
       "      <td>1913.0</td>\n",
       "      <td>133272.0</td>\n",
       "      <td>695900.0</td>\n",
       "      <td>22.8</td>\n",
       "      <td>77.54</td>\n",
       "      <td>4.56</td>\n",
       "      <td>3.88</td>\n",
       "      <td>0.16</td>\n",
       "      <td>11.21</td>\n",
       "      <td>0.2</td>\n",
       "      <td>2.2</td>\n",
       "      <td>0.24</td>\n",
       "      <td>2.0</td>\n",
       "      <td>2.0</td>\n",
       "      <td>1.49</td>\n",
       "      <td>1.49</td>\n",
       "      <td>1</td>\n",
       "      <td>0</td>\n",
       "      <td>0</td>\n",
       "    </tr>\n",
       "    <tr>\n",
       "      <th>4</th>\n",
       "      <td>6001400100</td>\n",
       "      <td>2004</td>\n",
       "      <td>4001.0</td>\n",
       "      <td>Alameda County, California</td>\n",
       "      <td>2497.87</td>\n",
       "      <td>2.93</td>\n",
       "      <td>143.0</td>\n",
       "      <td>9.43</td>\n",
       "      <td>1913.0</td>\n",
       "      <td>133272.0</td>\n",
       "      <td>695900.0</td>\n",
       "      <td>22.8</td>\n",
       "      <td>77.54</td>\n",
       "      <td>4.56</td>\n",
       "      <td>3.88</td>\n",
       "      <td>0.16</td>\n",
       "      <td>11.21</td>\n",
       "      <td>0.2</td>\n",
       "      <td>2.2</td>\n",
       "      <td>0.24</td>\n",
       "      <td>0.0</td>\n",
       "      <td>0.0</td>\n",
       "      <td>0.00</td>\n",
       "      <td>0.00</td>\n",
       "      <td>1</td>\n",
       "      <td>0</td>\n",
       "      <td>0</td>\n",
       "    </tr>\n",
       "  </tbody>\n",
       "</table>\n",
       "</div>"
      ],
      "text/plain": [
       "        GEOID  year    name             parent-location  population  \\\n",
       "0  6001400100  2000  4001.0  Alameda County, California     2497.87   \n",
       "1  6001400100  2001  4001.0  Alameda County, California     2497.87   \n",
       "2  6001400100  2002  4001.0  Alameda County, California     2497.87   \n",
       "3  6001400100  2003  4001.0  Alameda County, California     2497.87   \n",
       "4  6001400100  2004  4001.0  Alameda County, California     2497.87   \n",
       "\n",
       "   poverty-rate  renter-occupied-households  pct-renter-occupied  \\\n",
       "0          2.93                       108.0                 9.43   \n",
       "1          2.93                       117.0                 9.43   \n",
       "2          2.93                       126.0                 9.43   \n",
       "3          2.93                       134.0                 9.43   \n",
       "4          2.93                       143.0                 9.43   \n",
       "\n",
       "   median-gross-rent  median-household-income  median-property-value  \\\n",
       "0             1913.0                 133272.0               695900.0   \n",
       "1             1913.0                 133272.0               695900.0   \n",
       "2             1913.0                 133272.0               695900.0   \n",
       "3             1913.0                 133272.0               695900.0   \n",
       "4             1913.0                 133272.0               695900.0   \n",
       "\n",
       "   rent-burden  pct-white  pct-af-am  pct-hispanic  pct-am-ind  pct-asian  \\\n",
       "0         22.8      77.54       4.56          3.88        0.16      11.21   \n",
       "1         22.8      77.54       4.56          3.88        0.16      11.21   \n",
       "2         22.8      77.54       4.56          3.88        0.16      11.21   \n",
       "3         22.8      77.54       4.56          3.88        0.16      11.21   \n",
       "4         22.8      77.54       4.56          3.88        0.16      11.21   \n",
       "\n",
       "   pct-nh-pi  pct-multiple  pct-other  eviction-filings  evictions  \\\n",
       "0        0.2           2.2       0.24               0.0        0.0   \n",
       "1        0.2           2.2       0.24               1.0        0.0   \n",
       "2        0.2           2.2       0.24               1.0        1.0   \n",
       "3        0.2           2.2       0.24               2.0        2.0   \n",
       "4        0.2           2.2       0.24               0.0        0.0   \n",
       "\n",
       "   eviction-rate  eviction-filing-rate  low-flag  imputed  subbed  \n",
       "0           0.00                  0.00         1        0       0  \n",
       "1           0.00                  0.86         1        0       0  \n",
       "2           0.80                  0.80         1        0       0  \n",
       "3           1.49                  1.49         1        0       0  \n",
       "4           0.00                  0.00         1        0       0  "
      ]
     },
     "execution_count": 5,
     "metadata": {},
     "output_type": "execute_result"
    },
    {
     "data": {
      "application/javascript": [
       "\n",
       "            setTimeout(function() {\n",
       "                var nbb_cell_id = 5;\n",
       "                var nbb_unformatted_code = \"# read in the data using pandas\\ndf = pd.read_csv(DATA_PATH)\\nprint(\\\"Data shape:\\\", df.shape)\\nprint(\\\"\\\\nData types:\\\\n\\\", df.dtypes)\\ndf.head()\";\n",
       "                var nbb_formatted_code = \"# read in the data using pandas\\ndf = pd.read_csv(DATA_PATH)\\nprint(\\\"Data shape:\\\", df.shape)\\nprint(\\\"\\\\nData types:\\\\n\\\", df.dtypes)\\ndf.head()\";\n",
       "                var nbb_cells = Jupyter.notebook.get_cells();\n",
       "                for (var i = 0; i < nbb_cells.length; ++i) {\n",
       "                    if (nbb_cells[i].input_prompt_number == nbb_cell_id) {\n",
       "                        if (nbb_cells[i].get_text() == nbb_unformatted_code) {\n",
       "                             nbb_cells[i].set_text(nbb_formatted_code);\n",
       "                        }\n",
       "                        break;\n",
       "                    }\n",
       "                }\n",
       "            }, 500);\n",
       "            "
      ],
      "text/plain": [
       "<IPython.core.display.Javascript object>"
      ]
     },
     "metadata": {},
     "output_type": "display_data"
    }
   ],
   "source": [
    "# read in the data using pandas\n",
    "df = pd.read_csv(DATA_PATH)\n",
    "print(\"Data shape:\", df.shape)\n",
    "print(\"\\nData types:\\n\", df.dtypes)\n",
    "df.head()"
   ]
  },
  {
   "cell_type": "code",
   "execution_count": 6,
   "metadata": {},
   "outputs": [
    {
     "data": {
      "text/html": [
       "<div>\n",
       "<style scoped>\n",
       "    .dataframe tbody tr th:only-of-type {\n",
       "        vertical-align: middle;\n",
       "    }\n",
       "\n",
       "    .dataframe tbody tr th {\n",
       "        vertical-align: top;\n",
       "    }\n",
       "\n",
       "    .dataframe thead th {\n",
       "        text-align: right;\n",
       "    }\n",
       "</style>\n",
       "<table border=\"1\" class=\"dataframe\">\n",
       "  <thead>\n",
       "    <tr style=\"text-align: right;\">\n",
       "      <th>year</th>\n",
       "      <th>2000</th>\n",
       "      <th>2001</th>\n",
       "      <th>2002</th>\n",
       "      <th>2003</th>\n",
       "      <th>2004</th>\n",
       "      <th>2005</th>\n",
       "      <th>2006</th>\n",
       "      <th>2007</th>\n",
       "      <th>2008</th>\n",
       "      <th>2009</th>\n",
       "      <th>2010</th>\n",
       "      <th>2011</th>\n",
       "      <th>2012</th>\n",
       "      <th>2013</th>\n",
       "      <th>2014</th>\n",
       "      <th>2015</th>\n",
       "      <th>2016</th>\n",
       "    </tr>\n",
       "  </thead>\n",
       "  <tbody>\n",
       "    <tr>\n",
       "      <th>count</th>\n",
       "      <td>6622</td>\n",
       "      <td>6943</td>\n",
       "      <td>6871</td>\n",
       "      <td>6697</td>\n",
       "      <td>6584</td>\n",
       "      <td>6553</td>\n",
       "      <td>7018</td>\n",
       "      <td>7190</td>\n",
       "      <td>7190</td>\n",
       "      <td>7364</td>\n",
       "      <td>7254</td>\n",
       "      <td>6369</td>\n",
       "      <td>6335</td>\n",
       "      <td>6327</td>\n",
       "      <td>6739</td>\n",
       "      <td>6551</td>\n",
       "      <td>6615</td>\n",
       "    </tr>\n",
       "    <tr>\n",
       "      <th>size</th>\n",
       "      <td>8056</td>\n",
       "      <td>8056</td>\n",
       "      <td>8056</td>\n",
       "      <td>8056</td>\n",
       "      <td>8056</td>\n",
       "      <td>8056</td>\n",
       "      <td>8056</td>\n",
       "      <td>8056</td>\n",
       "      <td>8056</td>\n",
       "      <td>8056</td>\n",
       "      <td>8056</td>\n",
       "      <td>8057</td>\n",
       "      <td>8057</td>\n",
       "      <td>8057</td>\n",
       "      <td>8057</td>\n",
       "      <td>8057</td>\n",
       "      <td>8057</td>\n",
       "    </tr>\n",
       "  </tbody>\n",
       "</table>\n",
       "</div>"
      ],
      "text/plain": [
       "year   2000  2001  2002  2003  2004  2005  2006  2007  2008  2009  2010  2011  \\\n",
       "count  6622  6943  6871  6697  6584  6553  7018  7190  7190  7364  7254  6369   \n",
       "size   8056  8056  8056  8056  8056  8056  8056  8056  8056  8056  8056  8057   \n",
       "\n",
       "year   2012  2013  2014  2015  2016  \n",
       "count  6335  6327  6739  6551  6615  \n",
       "size   8057  8057  8057  8057  8057  "
      ]
     },
     "execution_count": 6,
     "metadata": {},
     "output_type": "execute_result"
    },
    {
     "data": {
      "application/javascript": [
       "\n",
       "            setTimeout(function() {\n",
       "                var nbb_cell_id = 6;\n",
       "                var nbb_unformatted_code = \"# count = non-NaN observations; size = all observations\\ndf.groupby(\\\"year\\\").agg(\\n    count=(\\\"eviction-rate\\\", \\\"count\\\"), size=(\\\"eviction-rate\\\", \\\"size\\\")\\n).transpose()\";\n",
       "                var nbb_formatted_code = \"# count = non-NaN observations; size = all observations\\ndf.groupby(\\\"year\\\").agg(\\n    count=(\\\"eviction-rate\\\", \\\"count\\\"), size=(\\\"eviction-rate\\\", \\\"size\\\")\\n).transpose()\";\n",
       "                var nbb_cells = Jupyter.notebook.get_cells();\n",
       "                for (var i = 0; i < nbb_cells.length; ++i) {\n",
       "                    if (nbb_cells[i].input_prompt_number == nbb_cell_id) {\n",
       "                        if (nbb_cells[i].get_text() == nbb_unformatted_code) {\n",
       "                             nbb_cells[i].set_text(nbb_formatted_code);\n",
       "                        }\n",
       "                        break;\n",
       "                    }\n",
       "                }\n",
       "            }, 500);\n",
       "            "
      ],
      "text/plain": [
       "<IPython.core.display.Javascript object>"
      ]
     },
     "metadata": {},
     "output_type": "display_data"
    }
   ],
   "source": [
    "# count = non-NaN observations; size = all observations\n",
    "df.groupby(\"year\").agg(\n",
    "    count=(\"eviction-rate\", \"count\"), size=(\"eviction-rate\", \"size\")\n",
    ").transpose()"
   ]
  },
  {
   "cell_type": "code",
   "execution_count": 7,
   "metadata": {},
   "outputs": [
    {
     "data": {
      "application/javascript": [
       "\n",
       "            setTimeout(function() {\n",
       "                var nbb_cell_id = 7;\n",
       "                var nbb_unformatted_code = \"# Data Dictionary\\nDATA_DICT_URL = \\\"https://drivendata-public-assets.s3.amazonaws.com/odsc-west-2019/DATA_DICTIONARY.txt\\\"\\nDATA_DICT_PATH = \\\"../references/DATA_DICTIONARY.txt\\\"\\n\\nif not os.path.exists(DATA_DICT_PATH):\\n    # Download data dictionary\\n    wget.download(url=DATA_DICT_URL, out=DATA_DICT_PATH)\";\n",
       "                var nbb_formatted_code = \"# Data Dictionary\\nDATA_DICT_URL = \\\"https://drivendata-public-assets.s3.amazonaws.com/odsc-west-2019/DATA_DICTIONARY.txt\\\"\\nDATA_DICT_PATH = \\\"../references/DATA_DICTIONARY.txt\\\"\\n\\nif not os.path.exists(DATA_DICT_PATH):\\n    # Download data dictionary\\n    wget.download(url=DATA_DICT_URL, out=DATA_DICT_PATH)\";\n",
       "                var nbb_cells = Jupyter.notebook.get_cells();\n",
       "                for (var i = 0; i < nbb_cells.length; ++i) {\n",
       "                    if (nbb_cells[i].input_prompt_number == nbb_cell_id) {\n",
       "                        if (nbb_cells[i].get_text() == nbb_unformatted_code) {\n",
       "                             nbb_cells[i].set_text(nbb_formatted_code);\n",
       "                        }\n",
       "                        break;\n",
       "                    }\n",
       "                }\n",
       "            }, 500);\n",
       "            "
      ],
      "text/plain": [
       "<IPython.core.display.Javascript object>"
      ]
     },
     "metadata": {},
     "output_type": "display_data"
    }
   ],
   "source": [
    "# Data Dictionary\n",
    "DATA_DICT_URL = \"https://drivendata-public-assets.s3.amazonaws.com/odsc-west-2019/DATA_DICTIONARY.txt\"\n",
    "DATA_DICT_PATH = \"../references/DATA_DICTIONARY.txt\"\n",
    "\n",
    "if not os.path.exists(DATA_DICT_PATH):\n",
    "    # Download data dictionary\n",
    "    wget.download(url=DATA_DICT_URL, out=DATA_DICT_PATH)"
   ]
  },
  {
   "cell_type": "code",
   "execution_count": 8,
   "metadata": {},
   "outputs": [
    {
     "name": "stdout",
     "output_type": "stream",
     "text": [
      "Eviction Lab Data Dictionary\r\n",
      "\r\n",
      "Additional information in our FAQ evictionlab.org/help-faq/\r\n",
      "Full methodology evictionlab.org/methods/\r\n",
      "\r\n",
      "Notes:\r\n",
      "- All geographies are converted to their 2010 Census FIPS codes, names, and boundaries\r\n",
      "\r\n",
      "Variables:\r\n",
      "\r\n",
      "- GEOID\r\n",
      "    - Census FIPS code\r\n",
      "- name\r\n",
      "    - Census location name (modified for display on map)\r\n",
      "- parent-location\r\n",
      "    - Parent location of given geography.\r\n",
      "    - USA for states, state for counties and cities, counties for tracts and block groups\r\n",
      "- population\r\n",
      "    - Total population\r\n",
      "    - 2000-2004 use 2000 Census SF1 P001001\r\n",
      "    - 2005-2009 use 2009 5-year ACS B01003_001E\r\n",
      "    - 2010 uses 2010 Census P0030001\r\n",
      "    - 2011-2016 uses 2015 5-year ACS B01003_001E\r\n",
      "- poverty-rate\r\n",
      "    - % of the population with income in the past 12 months below the poverty level\r\n",
      "    - 2000-2004 divides P087002 by P087001 in the 2000 Census summary file 3\r\n",
      "    - 2005-2009 divides B17010_002E by B17010_001E in 2009 5-year ACS\r\n",
      "    - 2010 divides B17010_002E by B17010_001E in 2012 5-year ACS\r\n",
      "    - 2011-2016 divides B17010_002E by B17010_001E in 2015 5-year ACS\r\n",
      "- pct-renter-occupied\r\n",
      "    - NOTE: This is not based off of the interpolated renter-occupied-households variable\r\n",
      "    - % of occupied housing units that are renter-occupied\r\n",
      "    - 2000-2004 divides H004003 by H003002 in 2000 Census summary file 1\r\n",
      "    - 2005-2009 divides B25003_003E by B25003_001E in 2009 5-year ACS\r\n",
      "    - 2010 divides H0040004 by H0040001 in 2010 Census\r\n",
      "    - 2011-2016 divides B25003_003E by B25003_001E in 2015 5-year ACS\r\n",
      "- median-gross-rent\r\n",
      "    - Median gross rent\r\n",
      "    - 2000-20004 uses 2000 Census summary file 3 H063001\r\n",
      "    - 2005-2009 uses 2009 5-year ACS B25064_001E\r\n",
      "    - 2010 uses 2012 5-year ACS B25064_001E\r\n",
      "    - 2011-2016 uses 2015 5-year ACS B25064_001E\r\n",
      "- median-household-income\r\n",
      "    - Median household income\r\n",
      "    - 2000-2004 uses 2000 Census summary file 3 P053001\r\n",
      "    - 2005-2009 uses 2009 5-year ACS B19013_001E\r\n",
      "    - 2010 uses 2012 5-year ACS B19013_001E\r\n",
      "    - 2011-2016 uses 2015 5-year ACS B19013_001E\r\n",
      "- median-property-value\r\n",
      "    - Median property value\r\n",
      "    - 2000-2004 uses 2000 Census summary file 3 H076001\r\n",
      "    - 2005-2009 uses 2009 5-year ACS B25077_001E\r\n",
      "    - 2010 uses 2012 5-year ACS B25077_001E\r\n",
      "    - 2011-2016 uses 2015 5-year ACS B25077_001E\r\n",
      "- rent-burden\r\n",
      "    - Median gross rent as a percentage of household income, max is 50% representing >= 50%\r\n",
      "    - 2000-2004 uses 2000 Census summary file 3 H070001\r\n",
      "    - 2005-2009 uses 2009 5-year ACS B25071_001E\r\n",
      "    - 2010 uses 2012 5-year ACS B25071_001E\r\n",
      "    - 2011-2016 uses 2015 5-year ACS B25071_001E\r\n",
      "- pct-white\r\n",
      "    - % population that is White alone and not Hispanic or Latino\r\n",
      "    - 2000-2004 divides P008003 by P001001 in 2000 Census summary file 1\r\n",
      "    - 2005-2009 divides B03002_003E by B01003_001E in 2009 5-year ACS\r\n",
      "    - 2010 divides P0050003 by P0030001 in 2010 Census\r\n",
      "    - 2011-2016 divides B03002_003E by B01003_001E in 2015 5-year ACS\r\n",
      "- pct-af-am\r\n",
      "    - % population that is Black or African American alone and not Hispanic or Latino\r\n",
      "    - 2000-2004 divides P008004 by P001001 in 2000 Census summary file 1\r\n",
      "    - 2005-2009 divides B03002_004E by B01003_001E in 2009 5-year ACS\r\n",
      "    - 2010 divides P0050004 by P0030001 in 2010 Census\r\n",
      "    - 2011-2016 divides B03002_004E by B01003_001E in 2015 5-year ACS\r\n",
      "- pct-hispanic\r\n",
      "    - % population that is of Hispanic or Latino origin\r\n",
      "    - 2000-2004 divides P008010 by P001001 in 2000 Census summary file 1\r\n",
      "    - 2005-2009 divides B03002_012E by B01003_001E in 2009 5-year ACS\r\n",
      "    - 2010 divides P0040003 by P0030001 in 2010 Census\r\n",
      "    - 2011-2016 divides B03002_012E by B01003_001E in 2015 5-year ACS\r\n",
      "- pct-am-ind\r\n",
      "    - % population that is American Indian and Alaska Native alone and not Hispanic or Latino\r\n",
      "    - 2000-2004 divides P008005 by P001001 in 2000 Census summary file 1\r\n",
      "    - 2005-2009 divides B03002_005E by B01003_001E in 2009 5-year ACS\r\n",
      "    - 2010 divides P0050005 by P0030001 in 2010 Census\r\n",
      "    - 2011-2016 divides B03002_005E by B01003_001E in 2015 5-year ACS\r\n",
      "- pct-asian\r\n",
      "    - % population that is Asian alone and not Hispanic or Latino\r\n",
      "    - 2000-2004 divides P008006 by P001001 in 2000 Census summary file 1\r\n",
      "    - 2005-2009 divides B03002_006E by B01003_001E in 2009 5-year ACS\r\n",
      "    - 2010 divides P0050006 by P0030001 in 2010 Census\r\n",
      "    - 2011-2016 divides B03002_006E by B01003_001E in 2015 5-year ACS\r\n",
      "- pct-nh-pi\r\n",
      "    - % population that is Native Hawaiian and Other Pacific Islander alone and not Hispanic or Latino\r\n",
      "    - 2000-2004 divides P008007 by P001001 in 2000 Census summary file 1\r\n",
      "    - 2005-2009 divides B03002_007E by B01003_001E in 2009 5-year ACS\r\n",
      "    - 2010 divides P0050007 by P0030001 in 2010 Census\r\n",
      "    - 2011-2016 divides B03002_007E by B01003_001E in 2015 5-year ACS\r\n",
      "- pct-other\r\n",
      "    - % population that is other race alone and not Hispanic or Latino\r\n",
      "    - 2000-2004 divides P008008 by P001001 in 2000 Census summary file 1\r\n",
      "    - 2005-2009 divides B03002_008E by B01003_001E in 2009 5-year ACS\r\n",
      "    - 2010 divides P0050008 by P0030001 in 2010 Census\r\n",
      "    - 2011-2016 divides B03002_008E by B01003_001E in 2015 5-year ACS\r\n",
      "- pct-multiple\r\n",
      "    - % population that is two or more races and not Hispanic or Latino\r\n",
      "    - 2000-2004 divides P008009 by P001001 in 2000 Census summary file 1\r\n",
      "    - 2005-2009 divides B03002_009E by B01003_001E in 2009 5-year ACS\r\n",
      "    - 2010 divides P0050009 by P0030001 in 2010 Census\r\n",
      "    - 2011-2016 divides B03002_009E by B01003_001E in 2015 5-year ACS\r\n",
      "- renter-occupied-households\r\n",
      "    - Interpolated count of renter-occupied households\r\n",
      "    - Based on Census and ESRI Business Analyst demographic estimates\r\n",
      "- evictions\r\n",
      "    - Number of eviction judgments in which renters were ordered to leave in a given area and year\r\n",
      "    - Only counts a single address which received an eviction judgment per year\r\n",
      "- eviction-filings\r\n",
      "    - All eviction cases filed in an area, including multiple cases filed against the same address in the same year\r\n",
      "- eviction-rate\r\n",
      "    - Ratio of the number of renter-occupied households in an area that received an eviction judgement in which renters were ordered to leave\r\n",
      "    - Only counts a single address per year which received an eviction judgment\r\n",
      "- eviction-filing-rate\r\n",
      "    - Ratio of the number of evictions filed in an area over the number of renter-occupied homes in that area\r\n",
      "    - Counts all eviction cases filed in an area, including multiple cases filed against the same address in the same year\r\n",
      "- imputed\r\n",
      "    - Boolean variable indicating whether eviction numbers and renter-occupied-households were imputed\r\n",
      "    - 0: false, 1: true\r\n",
      "- subbed\r\n",
      "    - Boolean variable indicating whether eviction numbers and renter-occupied-households were pulled from another source other than Eviction Lab sources\r\n",
      "    - 0: false, 1: true\r\n",
      "- low-flag\r\n",
      "    - Boolean variable indicating whether the eviction numbers are estimated to be lower than they are in reality. Based on county estimates for tracts and block groups\r\n",
      "    - 0: false, 1: true\r\n"
     ]
    },
    {
     "data": {
      "application/javascript": [
       "\n",
       "            setTimeout(function() {\n",
       "                var nbb_cell_id = 8;\n",
       "                var nbb_unformatted_code = \"!cat $DATA_DICT_PATH\";\n",
       "                var nbb_formatted_code = \"!cat $DATA_DICT_PATH\";\n",
       "                var nbb_cells = Jupyter.notebook.get_cells();\n",
       "                for (var i = 0; i < nbb_cells.length; ++i) {\n",
       "                    if (nbb_cells[i].input_prompt_number == nbb_cell_id) {\n",
       "                        if (nbb_cells[i].get_text() == nbb_unformatted_code) {\n",
       "                             nbb_cells[i].set_text(nbb_formatted_code);\n",
       "                        }\n",
       "                        break;\n",
       "                    }\n",
       "                }\n",
       "            }, 500);\n",
       "            "
      ],
      "text/plain": [
       "<IPython.core.display.Javascript object>"
      ]
     },
     "metadata": {},
     "output_type": "display_data"
    }
   ],
   "source": [
    "!cat $DATA_DICT_PATH"
   ]
  },
  {
   "cell_type": "markdown",
   "metadata": {},
   "source": [
    "## A. Data Collection\n",
    "\n",
    "## B. Data Storage\n",
    "\n",
    "We won't go into data collection or data storage in detail in this exercise. To see an integration of these sections' checklists with the eviction case study, see the reference notebook in the workshop repository.\n",
    "\n",
    "*One note on the data:* The history around defining racial categories is complex, flawed, and nuanced. For the purposes of this activity, we will accept the race-based categories in the data as is. In a real-world context, it would be worth reflecting on how those definitions came to be and what it means to embrace them."
   ]
  },
  {
   "cell_type": "markdown",
   "metadata": {},
   "source": [
    "## C. Analysis"
   ]
  },
  {
   "cell_type": "markdown",
   "metadata": {},
   "source": [
    " - [ ] **C.1 Missing perspectives**: Have we sought to address blindspots in the analysis through engagement with relevant stakeholders (e.g., checking assumptions and discussing implications with affected communities and subject matter experts)?"
   ]
  },
  {
   "cell_type": "markdown",
   "metadata": {},
   "source": [
    "We won't go into missing perspectives in detail in this exercise. For more detail, see the reference notebook in the workshop repository."
   ]
  },
  {
   "cell_type": "markdown",
   "metadata": {},
   "source": [
    " - [ ] **C.2 Dataset bias**: Have we examined the data for possible sources of bias and taken steps to mitigate or address these biases (e.g., stereotype perpetuation, confirmation bias, imbalanced classes, or omitted confounding variables)?"
   ]
  },
  {
   "cell_type": "markdown",
   "metadata": {},
   "source": [
    "We're going to run through the code in this section together, so that you have the tools to complete exercises independently later in the notebook."
   ]
  },
  {
   "cell_type": "code",
   "execution_count": 9,
   "metadata": {},
   "outputs": [
    {
     "data": {
      "text/plain": [
       "low-flag         0\n",
       "imputed          0\n",
       "evictions    21736\n",
       "dtype: int64"
      ]
     },
     "execution_count": 9,
     "metadata": {},
     "output_type": "execute_result"
    },
    {
     "data": {
      "application/javascript": [
       "\n",
       "            setTimeout(function() {\n",
       "                var nbb_cell_id = 9;\n",
       "                var nbb_unformatted_code = \"# Look into the number of missing values for a handful of relevant columns\\ndf[[\\\"low-flag\\\", \\\"imputed\\\", \\\"evictions\\\"]].isna().sum()\";\n",
       "                var nbb_formatted_code = \"# Look into the number of missing values for a handful of relevant columns\\ndf[[\\\"low-flag\\\", \\\"imputed\\\", \\\"evictions\\\"]].isna().sum()\";\n",
       "                var nbb_cells = Jupyter.notebook.get_cells();\n",
       "                for (var i = 0; i < nbb_cells.length; ++i) {\n",
       "                    if (nbb_cells[i].input_prompt_number == nbb_cell_id) {\n",
       "                        if (nbb_cells[i].get_text() == nbb_unformatted_code) {\n",
       "                             nbb_cells[i].set_text(nbb_formatted_code);\n",
       "                        }\n",
       "                        break;\n",
       "                    }\n",
       "                }\n",
       "            }, 500);\n",
       "            "
      ],
      "text/plain": [
       "<IPython.core.display.Javascript object>"
      ]
     },
     "metadata": {},
     "output_type": "display_data"
    }
   ],
   "source": [
    "# Look into the number of missing values for a handful of relevant columns\n",
    "df[[\"low-flag\", \"imputed\", \"evictions\"]].isna().sum()"
   ]
  },
  {
   "cell_type": "code",
   "execution_count": 10,
   "metadata": {},
   "outputs": [
    {
     "name": "stdout",
     "output_type": "stream",
     "text": [
      "Proportion of observations with low-flag: 0.72\n"
     ]
    },
    {
     "data": {
      "text/plain": [
       "1    98441\n",
       "0    38517\n",
       "Name: low-flag, dtype: int64"
      ]
     },
     "execution_count": 10,
     "metadata": {},
     "output_type": "execute_result"
    },
    {
     "data": {
      "application/javascript": [
       "\n",
       "            setTimeout(function() {\n",
       "                var nbb_cell_id = 10;\n",
       "                var nbb_unformatted_code = \"# How many observations have the low-flag?\\nprint(f\\\"Proportion of observations with low-flag: {df['low-flag'].mean():.2f}\\\")\\ndf[\\\"low-flag\\\"].value_counts()\";\n",
       "                var nbb_formatted_code = \"# How many observations have the low-flag?\\nprint(f\\\"Proportion of observations with low-flag: {df['low-flag'].mean():.2f}\\\")\\ndf[\\\"low-flag\\\"].value_counts()\";\n",
       "                var nbb_cells = Jupyter.notebook.get_cells();\n",
       "                for (var i = 0; i < nbb_cells.length; ++i) {\n",
       "                    if (nbb_cells[i].input_prompt_number == nbb_cell_id) {\n",
       "                        if (nbb_cells[i].get_text() == nbb_unformatted_code) {\n",
       "                             nbb_cells[i].set_text(nbb_formatted_code);\n",
       "                        }\n",
       "                        break;\n",
       "                    }\n",
       "                }\n",
       "            }, 500);\n",
       "            "
      ],
      "text/plain": [
       "<IPython.core.display.Javascript object>"
      ]
     },
     "metadata": {},
     "output_type": "display_data"
    }
   ],
   "source": [
    "# How many observations have the low-flag?\n",
    "# A majority of the evictions are likely too low\n",
    "print(f\"Proportion of observations with low-flag: {df['low-flag'].mean():.2f}\")\n",
    "df[\"low-flag\"].value_counts()"
   ]
  },
  {
   "cell_type": "code",
   "execution_count": 12,
   "metadata": {},
   "outputs": [
    {
     "name": "stdout",
     "output_type": "stream",
     "text": [
      "Proportion of observations with imputed flag: 0.01\n"
     ]
    },
    {
     "data": {
      "text/plain": [
       "0    135192\n",
       "1      1766\n",
       "Name: imputed, dtype: int64"
      ]
     },
     "execution_count": 12,
     "metadata": {},
     "output_type": "execute_result"
    },
    {
     "data": {
      "application/javascript": [
       "\n",
       "            setTimeout(function() {\n",
       "                var nbb_cell_id = 12;\n",
       "                var nbb_unformatted_code = \"# How many observations have the imputed flag?\\nprint(f\\\"Proportion of observations with imputed flag: {df['imputed'].mean():.2f}\\\")\\ndf[\\\"imputed\\\"].value_counts()\";\n",
       "                var nbb_formatted_code = \"# How many observations have the imputed flag?\\nprint(f\\\"Proportion of observations with imputed flag: {df['imputed'].mean():.2f}\\\")\\ndf[\\\"imputed\\\"].value_counts()\";\n",
       "                var nbb_cells = Jupyter.notebook.get_cells();\n",
       "                for (var i = 0; i < nbb_cells.length; ++i) {\n",
       "                    if (nbb_cells[i].input_prompt_number == nbb_cell_id) {\n",
       "                        if (nbb_cells[i].get_text() == nbb_unformatted_code) {\n",
       "                             nbb_cells[i].set_text(nbb_formatted_code);\n",
       "                        }\n",
       "                        break;\n",
       "                    }\n",
       "                }\n",
       "            }, 500);\n",
       "            "
      ],
      "text/plain": [
       "<IPython.core.display.Javascript object>"
      ]
     },
     "metadata": {},
     "output_type": "display_data"
    }
   ],
   "source": [
    "# How many observations have the imputed flag?\n",
    "# Very few values for eviction were imputed\n",
    "print(f\"Proportion of observations with imputed flag: {df['imputed'].mean():.2f}\")\n",
    "df[\"imputed\"].value_counts()"
   ]
  },
  {
   "cell_type": "code",
   "execution_count": 13,
   "metadata": {},
   "outputs": [
    {
     "data": {
      "text/html": [
       "<div>\n",
       "<style scoped>\n",
       "    .dataframe tbody tr th:only-of-type {\n",
       "        vertical-align: middle;\n",
       "    }\n",
       "\n",
       "    .dataframe tbody tr th {\n",
       "        vertical-align: top;\n",
       "    }\n",
       "\n",
       "    .dataframe thead th {\n",
       "        text-align: right;\n",
       "    }\n",
       "</style>\n",
       "<table border=\"1\" class=\"dataframe\">\n",
       "  <thead>\n",
       "    <tr style=\"text-align: right;\">\n",
       "      <th></th>\n",
       "      <th>pct-white</th>\n",
       "      <th>pct-af-am</th>\n",
       "      <th>pct-hispanic</th>\n",
       "      <th>pct-am-ind</th>\n",
       "      <th>pct-asian</th>\n",
       "      <th>pct-nh-pi</th>\n",
       "      <th>pct-multiple</th>\n",
       "      <th>pct-other</th>\n",
       "    </tr>\n",
       "  </thead>\n",
       "  <tbody>\n",
       "    <tr>\n",
       "      <th>count</th>\n",
       "      <td>136952.000000</td>\n",
       "      <td>136952.000000</td>\n",
       "      <td>136952.000000</td>\n",
       "      <td>136952.000000</td>\n",
       "      <td>136952.000000</td>\n",
       "      <td>136952.000000</td>\n",
       "      <td>136952.000000</td>\n",
       "      <td>136952.000000</td>\n",
       "    </tr>\n",
       "    <tr>\n",
       "      <th>mean</th>\n",
       "      <td>43.452164</td>\n",
       "      <td>5.994545</td>\n",
       "      <td>34.575192</td>\n",
       "      <td>0.472269</td>\n",
       "      <td>11.850210</td>\n",
       "      <td>0.325644</td>\n",
       "      <td>2.529993</td>\n",
       "      <td>0.253803</td>\n",
       "    </tr>\n",
       "    <tr>\n",
       "      <th>std</th>\n",
       "      <td>27.628941</td>\n",
       "      <td>9.969225</td>\n",
       "      <td>26.246277</td>\n",
       "      <td>1.463626</td>\n",
       "      <td>14.165121</td>\n",
       "      <td>0.864646</td>\n",
       "      <td>1.997365</td>\n",
       "      <td>0.544381</td>\n",
       "    </tr>\n",
       "    <tr>\n",
       "      <th>min</th>\n",
       "      <td>0.000000</td>\n",
       "      <td>0.000000</td>\n",
       "      <td>0.000000</td>\n",
       "      <td>0.000000</td>\n",
       "      <td>0.000000</td>\n",
       "      <td>0.000000</td>\n",
       "      <td>0.000000</td>\n",
       "      <td>0.000000</td>\n",
       "    </tr>\n",
       "    <tr>\n",
       "      <th>50%</th>\n",
       "      <td>44.190000</td>\n",
       "      <td>2.470000</td>\n",
       "      <td>26.495000</td>\n",
       "      <td>0.200000</td>\n",
       "      <td>6.770000</td>\n",
       "      <td>0.030000</td>\n",
       "      <td>2.280000</td>\n",
       "      <td>0.090000</td>\n",
       "    </tr>\n",
       "    <tr>\n",
       "      <th>max</th>\n",
       "      <td>100.000000</td>\n",
       "      <td>92.340000</td>\n",
       "      <td>100.000000</td>\n",
       "      <td>82.190000</td>\n",
       "      <td>94.180000</td>\n",
       "      <td>24.740000</td>\n",
       "      <td>100.000000</td>\n",
       "      <td>14.150000</td>\n",
       "    </tr>\n",
       "  </tbody>\n",
       "</table>\n",
       "</div>"
      ],
      "text/plain": [
       "           pct-white      pct-af-am   pct-hispanic     pct-am-ind  \\\n",
       "count  136952.000000  136952.000000  136952.000000  136952.000000   \n",
       "mean       43.452164       5.994545      34.575192       0.472269   \n",
       "std        27.628941       9.969225      26.246277       1.463626   \n",
       "min         0.000000       0.000000       0.000000       0.000000   \n",
       "50%        44.190000       2.470000      26.495000       0.200000   \n",
       "max       100.000000      92.340000     100.000000      82.190000   \n",
       "\n",
       "           pct-asian      pct-nh-pi   pct-multiple      pct-other  \n",
       "count  136952.000000  136952.000000  136952.000000  136952.000000  \n",
       "mean       11.850210       0.325644       2.529993       0.253803  \n",
       "std        14.165121       0.864646       1.997365       0.544381  \n",
       "min         0.000000       0.000000       0.000000       0.000000  \n",
       "50%         6.770000       0.030000       2.280000       0.090000  \n",
       "max        94.180000      24.740000     100.000000      14.150000  "
      ]
     },
     "execution_count": 13,
     "metadata": {},
     "output_type": "execute_result"
    },
    {
     "data": {
      "application/javascript": [
       "\n",
       "            setTimeout(function() {\n",
       "                var nbb_cell_id = 13;\n",
       "                var nbb_unformatted_code = \"# What are the general values of the race columns?\\nrace_cols = [\\n    \\\"pct-white\\\",\\n    \\\"pct-af-am\\\",\\n    \\\"pct-hispanic\\\",\\n    \\\"pct-am-ind\\\",\\n    \\\"pct-asian\\\",\\n    \\\"pct-nh-pi\\\",\\n    \\\"pct-multiple\\\",\\n    \\\"pct-other\\\",\\n]\\ndf[race_cols].describe(percentiles=[])\";\n",
       "                var nbb_formatted_code = \"# What are the general values of the race columns?\\nrace_cols = [\\n    \\\"pct-white\\\",\\n    \\\"pct-af-am\\\",\\n    \\\"pct-hispanic\\\",\\n    \\\"pct-am-ind\\\",\\n    \\\"pct-asian\\\",\\n    \\\"pct-nh-pi\\\",\\n    \\\"pct-multiple\\\",\\n    \\\"pct-other\\\",\\n]\\ndf[race_cols].describe(percentiles=[])\";\n",
       "                var nbb_cells = Jupyter.notebook.get_cells();\n",
       "                for (var i = 0; i < nbb_cells.length; ++i) {\n",
       "                    if (nbb_cells[i].input_prompt_number == nbb_cell_id) {\n",
       "                        if (nbb_cells[i].get_text() == nbb_unformatted_code) {\n",
       "                             nbb_cells[i].set_text(nbb_formatted_code);\n",
       "                        }\n",
       "                        break;\n",
       "                    }\n",
       "                }\n",
       "            }, 500);\n",
       "            "
      ],
      "text/plain": [
       "<IPython.core.display.Javascript object>"
      ]
     },
     "metadata": {},
     "output_type": "display_data"
    }
   ],
   "source": [
    "# What are the general values of the race columns?\n",
    "race_cols = [\n",
    "    \"pct-white\",\n",
    "    \"pct-af-am\",\n",
    "    \"pct-hispanic\",\n",
    "    \"pct-am-ind\",\n",
    "    \"pct-asian\",\n",
    "    \"pct-nh-pi\",\n",
    "    \"pct-multiple\",\n",
    "    \"pct-other\",\n",
    "]\n",
    "df[race_cols].describe(percentiles=[])"
   ]
  },
  {
   "cell_type": "code",
   "execution_count": 14,
   "metadata": {},
   "outputs": [
    {
     "data": {
      "text/html": [
       "<div>\n",
       "<style scoped>\n",
       "    .dataframe tbody tr th:only-of-type {\n",
       "        vertical-align: middle;\n",
       "    }\n",
       "\n",
       "    .dataframe tbody tr th {\n",
       "        vertical-align: top;\n",
       "    }\n",
       "\n",
       "    .dataframe thead th {\n",
       "        text-align: right;\n",
       "    }\n",
       "</style>\n",
       "<table border=\"1\" class=\"dataframe\">\n",
       "  <thead>\n",
       "    <tr style=\"text-align: right;\">\n",
       "      <th></th>\n",
       "      <th>evictions</th>\n",
       "      <th>median-household-income</th>\n",
       "      <th>imputed</th>\n",
       "      <th>low-flag</th>\n",
       "    </tr>\n",
       "  </thead>\n",
       "  <tbody>\n",
       "    <tr>\n",
       "      <th>pct-white</th>\n",
       "      <td>-0.234153</td>\n",
       "      <td>0.435938</td>\n",
       "      <td>0.005196</td>\n",
       "      <td>-0.108437</td>\n",
       "    </tr>\n",
       "    <tr>\n",
       "      <th>pct-af-am</th>\n",
       "      <td>0.271784</td>\n",
       "      <td>-0.227408</td>\n",
       "      <td>-0.003857</td>\n",
       "      <td>0.070013</td>\n",
       "    </tr>\n",
       "    <tr>\n",
       "      <th>pct-hispanic</th>\n",
       "      <td>0.212196</td>\n",
       "      <td>-0.490733</td>\n",
       "      <td>0.011387</td>\n",
       "      <td>0.045566</td>\n",
       "    </tr>\n",
       "    <tr>\n",
       "      <th>pct-am-ind</th>\n",
       "      <td>0.013909</td>\n",
       "      <td>-0.105474</td>\n",
       "      <td>0.008222</td>\n",
       "      <td>-0.052412</td>\n",
       "    </tr>\n",
       "    <tr>\n",
       "      <th>pct-asian</th>\n",
       "      <td>-0.117743</td>\n",
       "      <td>0.249954</td>\n",
       "      <td>-0.028211</td>\n",
       "      <td>0.079841</td>\n",
       "    </tr>\n",
       "    <tr>\n",
       "      <th>pct-nh-pi</th>\n",
       "      <td>0.050222</td>\n",
       "      <td>-0.025730</td>\n",
       "      <td>0.008283</td>\n",
       "      <td>0.025293</td>\n",
       "    </tr>\n",
       "    <tr>\n",
       "      <th>pct-multiple</th>\n",
       "      <td>-0.018113</td>\n",
       "      <td>0.197695</td>\n",
       "      <td>-0.008202</td>\n",
       "      <td>-0.005826</td>\n",
       "    </tr>\n",
       "    <tr>\n",
       "      <th>pct-other</th>\n",
       "      <td>0.014197</td>\n",
       "      <td>0.026264</td>\n",
       "      <td>0.018146</td>\n",
       "      <td>0.026254</td>\n",
       "    </tr>\n",
       "  </tbody>\n",
       "</table>\n",
       "</div>"
      ],
      "text/plain": [
       "              evictions  median-household-income   imputed  low-flag\n",
       "pct-white     -0.234153                 0.435938  0.005196 -0.108437\n",
       "pct-af-am      0.271784                -0.227408 -0.003857  0.070013\n",
       "pct-hispanic   0.212196                -0.490733  0.011387  0.045566\n",
       "pct-am-ind     0.013909                -0.105474  0.008222 -0.052412\n",
       "pct-asian     -0.117743                 0.249954 -0.028211  0.079841\n",
       "pct-nh-pi      0.050222                -0.025730  0.008283  0.025293\n",
       "pct-multiple  -0.018113                 0.197695 -0.008202 -0.005826\n",
       "pct-other      0.014197                 0.026264  0.018146  0.026254"
      ]
     },
     "execution_count": 14,
     "metadata": {},
     "output_type": "execute_result"
    },
    {
     "data": {
      "application/javascript": [
       "\n",
       "            setTimeout(function() {\n",
       "                var nbb_cell_id = 14;\n",
       "                var nbb_unformatted_code = \"# Calculate pairwise correlation of some columns against race percentage columns\\ncols_to_correlate = [\\\"evictions\\\", \\\"median-household-income\\\", \\\"imputed\\\", \\\"low-flag\\\"]\\ncorrelation_df = (\\n    df[race_cols + cols_to_correlate].corr().loc[race_cols, cols_to_correlate]\\n)\\ncorrelation_df\";\n",
       "                var nbb_formatted_code = \"# Calculate pairwise correlation of some columns against race percentage columns\\ncols_to_correlate = [\\\"evictions\\\", \\\"median-household-income\\\", \\\"imputed\\\", \\\"low-flag\\\"]\\ncorrelation_df = (\\n    df[race_cols + cols_to_correlate].corr().loc[race_cols, cols_to_correlate]\\n)\\ncorrelation_df\";\n",
       "                var nbb_cells = Jupyter.notebook.get_cells();\n",
       "                for (var i = 0; i < nbb_cells.length; ++i) {\n",
       "                    if (nbb_cells[i].input_prompt_number == nbb_cell_id) {\n",
       "                        if (nbb_cells[i].get_text() == nbb_unformatted_code) {\n",
       "                             nbb_cells[i].set_text(nbb_formatted_code);\n",
       "                        }\n",
       "                        break;\n",
       "                    }\n",
       "                }\n",
       "            }, 500);\n",
       "            "
      ],
      "text/plain": [
       "<IPython.core.display.Javascript object>"
      ]
     },
     "metadata": {},
     "output_type": "display_data"
    }
   ],
   "source": [
    "# Calculate pairwise correlation of some columns against race percentage columns\n",
    "cols_to_correlate = [\"evictions\", \"median-household-income\", \"imputed\", \"low-flag\"]\n",
    "correlation_df = (\n",
    "    df[race_cols + cols_to_correlate].corr().loc[race_cols, cols_to_correlate]\n",
    ")\n",
    "correlation_df"
   ]
  },
  {
   "cell_type": "code",
   "execution_count": 15,
   "metadata": {},
   "outputs": [
    {
     "data": {
      "text/plain": [
       "<AxesSubplot:>"
      ]
     },
     "execution_count": 15,
     "metadata": {},
     "output_type": "execute_result"
    },
    {
     "data": {
      "image/png": "[encoded data removed]",
      "text/plain": [
       "<Figure size 720x720 with 2 Axes>"
      ]
     },
     "metadata": {
      "needs_background": "light"
     },
     "output_type": "display_data"
    },
    {
     "data": {
      "application/javascript": [
       "\n",
       "            setTimeout(function() {\n",
       "                var nbb_cell_id = 15;\n",
       "                var nbb_unformatted_code = \"# Visualize the above correlations.\\nplt.figure(figsize=FIGSIZE)\\nsns.heatmap(\\n    correlation_df.sort_values(\\\"evictions\\\"),\\n    annot=True,\\n    fmt=\\\"g\\\",\\n    cmap=\\\"RdBu_r\\\",\\n    vmin=-0.5,\\n    vmax=0.5,\\n)\";\n",
       "                var nbb_formatted_code = \"# Visualize the above correlations.\\nplt.figure(figsize=FIGSIZE)\\nsns.heatmap(\\n    correlation_df.sort_values(\\\"evictions\\\"),\\n    annot=True,\\n    fmt=\\\"g\\\",\\n    cmap=\\\"RdBu_r\\\",\\n    vmin=-0.5,\\n    vmax=0.5,\\n)\";\n",
       "                var nbb_cells = Jupyter.notebook.get_cells();\n",
       "                for (var i = 0; i < nbb_cells.length; ++i) {\n",
       "                    if (nbb_cells[i].input_prompt_number == nbb_cell_id) {\n",
       "                        if (nbb_cells[i].get_text() == nbb_unformatted_code) {\n",
       "                             nbb_cells[i].set_text(nbb_formatted_code);\n",
       "                        }\n",
       "                        break;\n",
       "                    }\n",
       "                }\n",
       "            }, 500);\n",
       "            "
      ],
      "text/plain": [
       "<IPython.core.display.Javascript object>"
      ]
     },
     "metadata": {},
     "output_type": "display_data"
    }
   ],
   "source": [
    "# Visualize the above correlations.\n",
    "plt.figure(figsize=FIGSIZE)\n",
    "sns.heatmap(\n",
    "    correlation_df.sort_values(\"evictions\"),\n",
    "    annot=True,\n",
    "    fmt=\"g\",\n",
    "    cmap=\"RdBu_r\",\n",
    "    vmin=-0.5,\n",
    "    vmax=0.5,\n",
    ")"
   ]
  },
  {
   "cell_type": "markdown",
   "metadata": {},
   "source": [
    " - [ ] **C.3 Honest representation**: Are our visualizations, summary statistics, and reports designed to honestly represent the underlying data?"
   ]
  },
  {
   "cell_type": "markdown",
   "metadata": {},
   "source": [
    "We are not going to spend time in this exercise looking at examples of poor visualizations, but this is a good check to do for real projects."
   ]
  },
  {
   "cell_type": "markdown",
   "metadata": {},
   "source": [
    " - [ ] **C.4 Privacy in analysis**: Have we ensured that data with PII are not used or displayed unless necessary for the analysis?"
   ]
  },
  {
   "cell_type": "markdown",
   "metadata": {},
   "source": [
    "Mostly not applicable. We have no PII, but we do have some tracts with few observations. We need to be mindful of those and maybe exclude them from visualizations or combine them with neighboring tracts."
   ]
  },
  {
   "cell_type": "markdown",
   "metadata": {},
   "source": [
    " - [ ] **C.5 Auditability**: Is the process of generating the analysis well documented and reproducible if we discover issues in the future?"
   ]
  },
  {
   "cell_type": "markdown",
   "metadata": {},
   "source": [
    "Yes, all of our code is contained in this notebook. For real projects, this is an important point to consider in more depth."
   ]
  },
  {
   "cell_type": "markdown",
   "metadata": {},
   "source": [
    "## D. Modeling"
   ]
  },
  {
   "cell_type": "markdown",
   "metadata": {},
   "source": [
    "The non-profit wants their decision-making to be race-blind, so they ask for the population race percentage features to not be included in the modeling."
   ]
  },
  {
   "cell_type": "code",
   "execution_count": 16,
   "metadata": {},
   "outputs": [
    {
     "data": {
      "application/javascript": [
       "\n",
       "            setTimeout(function() {\n",
       "                var nbb_cell_id = 16;\n",
       "                var nbb_unformatted_code = \"TARGET_VAR = \\\"evictions\\\"\\nFEATURE_VARS = [\\n    \\\"year\\\",\\n    \\\"population\\\",\\n    \\\"poverty-rate\\\",\\n    \\\"median-property-value\\\",\\n    \\\"renter-occupied-households\\\",\\n    \\\"pct-renter-occupied\\\",\\n    \\\"median-gross-rent\\\",\\n    \\\"median-household-income\\\",\\n    \\\"rent-burden\\\",\\n    ## Don't include race features\\n    #'pct-white' , 'pct-af-am', 'pct-hispanic', 'pct-am-ind',\\n    #'pct-asian', 'pct-nh-pi', 'pct-multiple', 'pct-other'\\n    ## Also don't include features directly related to the target variable\\n    # 'eviction-filings', 'eviction-rate', 'eviction-filing-rate'\\n]\\nGROUP_VAR = \\\"GEOID\\\"  # Prevent leakage\";\n",
       "                var nbb_formatted_code = \"TARGET_VAR = \\\"evictions\\\"\\nFEATURE_VARS = [\\n    \\\"year\\\",\\n    \\\"population\\\",\\n    \\\"poverty-rate\\\",\\n    \\\"median-property-value\\\",\\n    \\\"renter-occupied-households\\\",\\n    \\\"pct-renter-occupied\\\",\\n    \\\"median-gross-rent\\\",\\n    \\\"median-household-income\\\",\\n    \\\"rent-burden\\\",\\n    ## Don't include race features\\n    #'pct-white' , 'pct-af-am', 'pct-hispanic', 'pct-am-ind',\\n    #'pct-asian', 'pct-nh-pi', 'pct-multiple', 'pct-other'\\n    ## Also don't include features directly related to the target variable\\n    # 'eviction-filings', 'eviction-rate', 'eviction-filing-rate'\\n]\\nGROUP_VAR = \\\"GEOID\\\"  # Prevent leakage\";\n",
       "                var nbb_cells = Jupyter.notebook.get_cells();\n",
       "                for (var i = 0; i < nbb_cells.length; ++i) {\n",
       "                    if (nbb_cells[i].input_prompt_number == nbb_cell_id) {\n",
       "                        if (nbb_cells[i].get_text() == nbb_unformatted_code) {\n",
       "                             nbb_cells[i].set_text(nbb_formatted_code);\n",
       "                        }\n",
       "                        break;\n",
       "                    }\n",
       "                }\n",
       "            }, 500);\n",
       "            "
      ],
      "text/plain": [
       "<IPython.core.display.Javascript object>"
      ]
     },
     "metadata": {},
     "output_type": "display_data"
    }
   ],
   "source": [
    "TARGET_VAR = \"evictions\"\n",
    "FEATURE_VARS = [\n",
    "    \"year\",\n",
    "    \"population\",\n",
    "    \"poverty-rate\",\n",
    "    \"median-property-value\",\n",
    "    \"renter-occupied-households\",\n",
    "    \"pct-renter-occupied\",\n",
    "    \"median-gross-rent\",\n",
    "    \"median-household-income\",\n",
    "    \"rent-burden\",\n",
    "    ## Don't include race features\n",
    "    #'pct-white' , 'pct-af-am', 'pct-hispanic', 'pct-am-ind',\n",
    "    #'pct-asian', 'pct-nh-pi', 'pct-multiple', 'pct-other'\n",
    "    ## Also don't include features directly related to the target variable\n",
    "    # 'eviction-filings', 'eviction-rate', 'eviction-filing-rate'\n",
    "]\n",
    "GROUP_VAR = \"GEOID\"  # Prevent leakage"
   ]
  },
  {
   "cell_type": "code",
   "execution_count": 17,
   "metadata": {},
   "outputs": [
    {
     "name": "stdout",
     "output_type": "stream",
     "text": [
      "Original Shape: (136958, 27)\n",
      "Shape without NAs: (115222, 28)\n"
     ]
    },
    {
     "data": {
      "application/javascript": [
       "\n",
       "            setTimeout(function() {\n",
       "                var nbb_cell_id = 17;\n",
       "                var nbb_unformatted_code = \"print(f\\\"Original Shape: {df.shape}\\\")\\n# Drop NAs in target variable\\ndf_modeling = df.dropna(subset=[TARGET_VAR]).copy()\\ndf_modeling.reset_index(inplace=True)\\nprint(f\\\"Shape without NAs: {df_modeling.shape}\\\")\";\n",
       "                var nbb_formatted_code = \"print(f\\\"Original Shape: {df.shape}\\\")\\n# Drop NAs in target variable\\ndf_modeling = df.dropna(subset=[TARGET_VAR]).copy()\\ndf_modeling.reset_index(inplace=True)\\nprint(f\\\"Shape without NAs: {df_modeling.shape}\\\")\";\n",
       "                var nbb_cells = Jupyter.notebook.get_cells();\n",
       "                for (var i = 0; i < nbb_cells.length; ++i) {\n",
       "                    if (nbb_cells[i].input_prompt_number == nbb_cell_id) {\n",
       "                        if (nbb_cells[i].get_text() == nbb_unformatted_code) {\n",
       "                             nbb_cells[i].set_text(nbb_formatted_code);\n",
       "                        }\n",
       "                        break;\n",
       "                    }\n",
       "                }\n",
       "            }, 500);\n",
       "            "
      ],
      "text/plain": [
       "<IPython.core.display.Javascript object>"
      ]
     },
     "metadata": {},
     "output_type": "display_data"
    }
   ],
   "source": [
    "print(f\"Original Shape: {df.shape}\")\n",
    "# Drop NAs in target variable\n",
    "df_modeling = df.dropna(subset=[TARGET_VAR]).copy()\n",
    "df_modeling.reset_index(inplace=True)\n",
    "print(f\"Shape without NAs: {df_modeling.shape}\")"
   ]
  },
  {
   "cell_type": "code",
   "execution_count": 18,
   "metadata": {},
   "outputs": [
    {
     "data": {
      "application/javascript": [
       "\n",
       "            setTimeout(function() {\n",
       "                var nbb_cell_id = 18;\n",
       "                var nbb_unformatted_code = \"from sklearn.model_selection import GroupShuffleSplit, cross_validate\\nfrom sklearn.metrics import r2_score, mean_absolute_error, mean_squared_error\\nfrom sklearn.ensemble import RandomForestRegressor\\nfrom sklearn.impute import SimpleImputer\\nfrom sklearn.pipeline import Pipeline\";\n",
       "                var nbb_formatted_code = \"from sklearn.model_selection import GroupShuffleSplit, cross_validate\\nfrom sklearn.metrics import r2_score, mean_absolute_error, mean_squared_error\\nfrom sklearn.ensemble import RandomForestRegressor\\nfrom sklearn.impute import SimpleImputer\\nfrom sklearn.pipeline import Pipeline\";\n",
       "                var nbb_cells = Jupyter.notebook.get_cells();\n",
       "                for (var i = 0; i < nbb_cells.length; ++i) {\n",
       "                    if (nbb_cells[i].input_prompt_number == nbb_cell_id) {\n",
       "                        if (nbb_cells[i].get_text() == nbb_unformatted_code) {\n",
       "                             nbb_cells[i].set_text(nbb_formatted_code);\n",
       "                        }\n",
       "                        break;\n",
       "                    }\n",
       "                }\n",
       "            }, 500);\n",
       "            "
      ],
      "text/plain": [
       "<IPython.core.display.Javascript object>"
      ]
     },
     "metadata": {},
     "output_type": "display_data"
    }
   ],
   "source": [
    "from sklearn.model_selection import GroupShuffleSplit, cross_validate\n",
    "from sklearn.metrics import r2_score, mean_absolute_error, mean_squared_error\n",
    "from sklearn.ensemble import RandomForestRegressor\n",
    "from sklearn.impute import SimpleImputer\n",
    "from sklearn.pipeline import Pipeline"
   ]
  },
  {
   "cell_type": "code",
   "execution_count": 19,
   "metadata": {},
   "outputs": [
    {
     "data": {
      "text/plain": [
       "count    115222.000000\n",
       "mean         11.417629\n",
       "std          14.838183\n",
       "min           0.000000\n",
       "25%           2.000000\n",
       "50%           7.000000\n",
       "75%          15.000000\n",
       "max         296.000000\n",
       "Name: evictions, dtype: float64"
      ]
     },
     "execution_count": 19,
     "metadata": {},
     "output_type": "execute_result"
    },
    {
     "data": {
      "application/javascript": [
       "\n",
       "            setTimeout(function() {\n",
       "                var nbb_cell_id = 19;\n",
       "                var nbb_unformatted_code = \"df_modeling.loc[:, TARGET_VAR].describe()\";\n",
       "                var nbb_formatted_code = \"df_modeling.loc[:, TARGET_VAR].describe()\";\n",
       "                var nbb_cells = Jupyter.notebook.get_cells();\n",
       "                for (var i = 0; i < nbb_cells.length; ++i) {\n",
       "                    if (nbb_cells[i].input_prompt_number == nbb_cell_id) {\n",
       "                        if (nbb_cells[i].get_text() == nbb_unformatted_code) {\n",
       "                             nbb_cells[i].set_text(nbb_formatted_code);\n",
       "                        }\n",
       "                        break;\n",
       "                    }\n",
       "                }\n",
       "            }, 500);\n",
       "            "
      ],
      "text/plain": [
       "<IPython.core.display.Javascript object>"
      ]
     },
     "metadata": {},
     "output_type": "display_data"
    }
   ],
   "source": [
    "df_modeling.loc[:, TARGET_VAR].describe()"
   ]
  },
  {
   "cell_type": "code",
   "execution_count": 20,
   "metadata": {},
   "outputs": [
    {
     "data": {
      "application/javascript": [
       "\n",
       "            setTimeout(function() {\n",
       "                var nbb_cell_id = 20;\n",
       "                var nbb_unformatted_code = \"# create a train-test split for model evaluation later\\nsplit = GroupShuffleSplit(test_size=0.20, n_splits=2, random_state=36).split(\\n    df_modeling, groups=df_modeling.loc[:, GROUP_VAR]\\n)\\n\\ntrain_inds, test_inds = next(split)\\n\\ndf_train = df_modeling.loc[train_inds, :]\\ndf_test = df_modeling.loc[test_inds, :]\\n\\nX_train = df_train.loc[:, FEATURE_VARS].values\\ny_train = df_train.loc[:, TARGET_VAR].values\\n\\nX_test = df_test.loc[:, FEATURE_VARS].values\\ny_test = df_test.loc[:, TARGET_VAR].values\";\n",
       "                var nbb_formatted_code = \"# create a train-test split for model evaluation later\\nsplit = GroupShuffleSplit(test_size=0.20, n_splits=2, random_state=36).split(\\n    df_modeling, groups=df_modeling.loc[:, GROUP_VAR]\\n)\\n\\ntrain_inds, test_inds = next(split)\\n\\ndf_train = df_modeling.loc[train_inds, :]\\ndf_test = df_modeling.loc[test_inds, :]\\n\\nX_train = df_train.loc[:, FEATURE_VARS].values\\ny_train = df_train.loc[:, TARGET_VAR].values\\n\\nX_test = df_test.loc[:, FEATURE_VARS].values\\ny_test = df_test.loc[:, TARGET_VAR].values\";\n",
       "                var nbb_cells = Jupyter.notebook.get_cells();\n",
       "                for (var i = 0; i < nbb_cells.length; ++i) {\n",
       "                    if (nbb_cells[i].input_prompt_number == nbb_cell_id) {\n",
       "                        if (nbb_cells[i].get_text() == nbb_unformatted_code) {\n",
       "                             nbb_cells[i].set_text(nbb_formatted_code);\n",
       "                        }\n",
       "                        break;\n",
       "                    }\n",
       "                }\n",
       "            }, 500);\n",
       "            "
      ],
      "text/plain": [
       "<IPython.core.display.Javascript object>"
      ]
     },
     "metadata": {},
     "output_type": "display_data"
    }
   ],
   "source": [
    "# create a train-test split for model evaluation later\n",
    "split = GroupShuffleSplit(test_size=0.20, n_splits=2, random_state=36).split(\n",
    "    df_modeling, groups=df_modeling.loc[:, GROUP_VAR]\n",
    ")\n",
    "\n",
    "train_inds, test_inds = next(split)\n",
    "\n",
    "df_train = df_modeling.loc[train_inds, :]\n",
    "df_test = df_modeling.loc[test_inds, :]\n",
    "\n",
    "X_train = df_train.loc[:, FEATURE_VARS].values\n",
    "y_train = df_train.loc[:, TARGET_VAR].values\n",
    "\n",
    "X_test = df_test.loc[:, FEATURE_VARS].values\n",
    "y_test = df_test.loc[:, TARGET_VAR].values"
   ]
  },
  {
   "cell_type": "markdown",
   "metadata": {},
   "source": [
    "We're going to fit and use a [random forest](https://towardsdatascience.com/understanding-random-forest-58381e0602d2) model to predict evictions."
   ]
  },
  {
   "cell_type": "code",
   "execution_count": 21,
   "metadata": {},
   "outputs": [
    {
     "name": "stderr",
     "output_type": "stream",
     "text": [
      "/opt/anaconda3/envs/msc-buckingham-data-ethics/lib/python3.8/site-packages/sklearn/ensemble/_forest.py:400: FutureWarning: Criterion 'mse' was deprecated in v1.0 and will be removed in version 1.2. Use `criterion='squared_error'` which is equivalent.\n",
      "  warn(\n"
     ]
    },
    {
     "name": "stdout",
     "output_type": "stream",
     "text": [
      "CPU times: user 31.8 s, sys: 439 ms, total: 32.2 s\n",
      "Wall time: 33 s\n"
     ]
    },
    {
     "data": {
      "text/html": [
       "<style>#sk-container-id-1 {color: black;background-color: white;}#sk-container-id-1 pre{padding: 0;}#sk-container-id-1 div.sk-toggleable {background-color: white;}#sk-container-id-1 label.sk-toggleable__label {cursor: pointer;display: block;width: 100%;margin-bottom: 0;padding: 0.3em;box-sizing: border-box;text-align: center;}#sk-container-id-1 label.sk-toggleable__label-arrow:before {content: \"▸\";float: left;margin-right: 0.25em;color: #696969;}#sk-container-id-1 label.sk-toggleable__label-arrow:hover:before {color: black;}#sk-container-id-1 div.sk-estimator:hover label.sk-toggleable__label-arrow:before {color: black;}#sk-container-id-1 div.sk-toggleable__content {max-height: 0;max-width: 0;overflow: hidden;text-align: left;background-color: #f0f8ff;}#sk-container-id-1 div.sk-toggleable__content pre {margin: 0.2em;color: black;border-radius: 0.25em;background-color: #f0f8ff;}#sk-container-id-1 input.sk-toggleable__control:checked~div.sk-toggleable__content {max-height: 200px;max-width: 100%;overflow: auto;}#sk-container-id-1 input.sk-toggleable__control:checked~label.sk-toggleable__label-arrow:before {content: \"▾\";}#sk-container-id-1 div.sk-estimator input.sk-toggleable__control:checked~label.sk-toggleable__label {background-color: #d4ebff;}#sk-container-id-1 div.sk-label input.sk-toggleable__control:checked~label.sk-toggleable__label {background-color: #d4ebff;}#sk-container-id-1 input.sk-hidden--visually {border: 0;clip: rect(1px 1px 1px 1px);clip: rect(1px, 1px, 1px, 1px);height: 1px;margin: -1px;overflow: hidden;padding: 0;position: absolute;width: 1px;}#sk-container-id-1 div.sk-estimator {font-family: monospace;background-color: #f0f8ff;border: 1px dotted black;border-radius: 0.25em;box-sizing: border-box;margin-bottom: 0.5em;}#sk-container-id-1 div.sk-estimator:hover {background-color: #d4ebff;}#sk-container-id-1 div.sk-parallel-item::after {content: \"\";width: 100%;border-bottom: 1px solid gray;flex-grow: 1;}#sk-container-id-1 div.sk-label:hover label.sk-toggleable__label {background-color: #d4ebff;}#sk-container-id-1 div.sk-serial::before {content: \"\";position: absolute;border-left: 1px solid gray;box-sizing: border-box;top: 0;bottom: 0;left: 50%;z-index: 0;}#sk-container-id-1 div.sk-serial {display: flex;flex-direction: column;align-items: center;background-color: white;padding-right: 0.2em;padding-left: 0.2em;position: relative;}#sk-container-id-1 div.sk-item {position: relative;z-index: 1;}#sk-container-id-1 div.sk-parallel {display: flex;align-items: stretch;justify-content: center;background-color: white;position: relative;}#sk-container-id-1 div.sk-item::before, #sk-container-id-1 div.sk-parallel-item::before {content: \"\";position: absolute;border-left: 1px solid gray;box-sizing: border-box;top: 0;bottom: 0;left: 50%;z-index: -1;}#sk-container-id-1 div.sk-parallel-item {display: flex;flex-direction: column;z-index: 1;position: relative;background-color: white;}#sk-container-id-1 div.sk-parallel-item:first-child::after {align-self: flex-end;width: 50%;}#sk-container-id-1 div.sk-parallel-item:last-child::after {align-self: flex-start;width: 50%;}#sk-container-id-1 div.sk-parallel-item:only-child::after {width: 0;}#sk-container-id-1 div.sk-dashed-wrapped {border: 1px dashed gray;margin: 0 0.4em 0.5em 0.4em;box-sizing: border-box;padding-bottom: 0.4em;background-color: white;}#sk-container-id-1 div.sk-label label {font-family: monospace;font-weight: bold;display: inline-block;line-height: 1.2em;}#sk-container-id-1 div.sk-label-container {text-align: center;}#sk-container-id-1 div.sk-container {/* jupyter's `normalize.less` sets `[hidden] { display: none; }` but bootstrap.min.css set `[hidden] { display: none !important; }` so we also need the `!important` here to be able to override the default hidden behavior on the sphinx rendered scikit-learn.org. See: https://github.com/scikit-learn/scikit-learn/issues/21755 */display: inline-block !important;position: relative;}#sk-container-id-1 div.sk-text-repr-fallback {display: none;}</style><div id=\"sk-container-id-1\" class=\"sk-top-container\"><div class=\"sk-text-repr-fallback\"><pre>Pipeline(steps=[(&#x27;med_impute&#x27;, SimpleImputer(strategy=&#x27;median&#x27;)),\n",
       "                (&#x27;model&#x27;,\n",
       "                 RandomForestRegressor(criterion=&#x27;mse&#x27;, max_depth=10,\n",
       "                                       random_state=36))])</pre><b>In a Jupyter environment, please rerun this cell to show the HTML representation or trust the notebook. <br />On GitHub, the HTML representation is unable to render, please try loading this page with nbviewer.org.</b></div><div class=\"sk-container\" hidden><div class=\"sk-item sk-dashed-wrapped\"><div class=\"sk-label-container\"><div class=\"sk-label sk-toggleable\"><input class=\"sk-toggleable__control sk-hidden--visually\" id=\"sk-estimator-id-1\" type=\"checkbox\" ><label for=\"sk-estimator-id-1\" class=\"sk-toggleable__label sk-toggleable__label-arrow\">Pipeline</label><div class=\"sk-toggleable__content\"><pre>Pipeline(steps=[(&#x27;med_impute&#x27;, SimpleImputer(strategy=&#x27;median&#x27;)),\n",
       "                (&#x27;model&#x27;,\n",
       "                 RandomForestRegressor(criterion=&#x27;mse&#x27;, max_depth=10,\n",
       "                                       random_state=36))])</pre></div></div></div><div class=\"sk-serial\"><div class=\"sk-item\"><div class=\"sk-estimator sk-toggleable\"><input class=\"sk-toggleable__control sk-hidden--visually\" id=\"sk-estimator-id-2\" type=\"checkbox\" ><label for=\"sk-estimator-id-2\" class=\"sk-toggleable__label sk-toggleable__label-arrow\">SimpleImputer</label><div class=\"sk-toggleable__content\"><pre>SimpleImputer(strategy=&#x27;median&#x27;)</pre></div></div></div><div class=\"sk-item\"><div class=\"sk-estimator sk-toggleable\"><input class=\"sk-toggleable__control sk-hidden--visually\" id=\"sk-estimator-id-3\" type=\"checkbox\" ><label for=\"sk-estimator-id-3\" class=\"sk-toggleable__label sk-toggleable__label-arrow\">RandomForestRegressor</label><div class=\"sk-toggleable__content\"><pre>RandomForestRegressor(criterion=&#x27;mse&#x27;, max_depth=10, random_state=36)</pre></div></div></div></div></div></div></div>"
      ],
      "text/plain": [
       "Pipeline(steps=[('med_impute', SimpleImputer(strategy='median')),\n",
       "                ('model',\n",
       "                 RandomForestRegressor(criterion='mse', max_depth=10,\n",
       "                                       random_state=36))])"
      ]
     },
     "execution_count": 21,
     "metadata": {},
     "output_type": "execute_result"
    },
    {
     "data": {
      "application/javascript": [
       "\n",
       "            setTimeout(function() {\n",
       "                var nbb_cell_id = 21;\n",
       "                var nbb_unformatted_code = \"%%time\\n# train the model\\nmodel_pipeline = Pipeline([\\n    ('med_impute', SimpleImputer(strategy='median')),\\n    ('model', RandomForestRegressor(\\n        criterion='mse',\\n        n_estimators=100, \\n        max_depth=10,\\n        random_state=36\\n    ))\\n])\\nmodel_pipeline.fit(X_train, y_train)\";\n",
       "                var nbb_formatted_code = \"%%time\\n# train the model\\nmodel_pipeline = Pipeline([\\n    ('med_impute', SimpleImputer(strategy='median')),\\n    ('model', RandomForestRegressor(\\n        criterion='mse',\\n        n_estimators=100, \\n        max_depth=10,\\n        random_state=36\\n    ))\\n])\\nmodel_pipeline.fit(X_train, y_train)\";\n",
       "                var nbb_cells = Jupyter.notebook.get_cells();\n",
       "                for (var i = 0; i < nbb_cells.length; ++i) {\n",
       "                    if (nbb_cells[i].input_prompt_number == nbb_cell_id) {\n",
       "                        if (nbb_cells[i].get_text() == nbb_unformatted_code) {\n",
       "                             nbb_cells[i].set_text(nbb_formatted_code);\n",
       "                        }\n",
       "                        break;\n",
       "                    }\n",
       "                }\n",
       "            }, 500);\n",
       "            "
      ],
      "text/plain": [
       "<IPython.core.display.Javascript object>"
      ]
     },
     "metadata": {},
     "output_type": "display_data"
    }
   ],
   "source": [
    "%%time\n",
    "# train the model\n",
    "model_pipeline = Pipeline([\n",
    "    ('med_impute', SimpleImputer(strategy='median')),\n",
    "    ('model', RandomForestRegressor(\n",
    "        criterion='mse',\n",
    "        n_estimators=100, \n",
    "        max_depth=10,\n",
    "        random_state=36\n",
    "    ))\n",
    "])\n",
    "model_pipeline.fit(X_train, y_train)"
   ]
  },
  {
   "cell_type": "code",
   "execution_count": 22,
   "metadata": {},
   "outputs": [
    {
     "name": "stdout",
     "output_type": "stream",
     "text": [
      "R2 0.4902906447471631\n",
      "MSE 102.05521224494476\n",
      "MAE 5.9859944311932445\n"
     ]
    },
    {
     "data": {
      "application/javascript": [
       "\n",
       "            setTimeout(function() {\n",
       "                var nbb_cell_id = 22;\n",
       "                var nbb_unformatted_code = \"# generate predictions and look at key performance metrics\\ny_pred = model_pipeline.predict(X_test)\\nprint(\\\"R2\\\", r2_score(y_test, y_pred))\\nprint(\\\"MSE\\\", mean_squared_error(y_test, y_pred))\\nprint(\\\"MAE\\\", mean_absolute_error(y_test, y_pred))\";\n",
       "                var nbb_formatted_code = \"# generate predictions and look at key performance metrics\\ny_pred = model_pipeline.predict(X_test)\\nprint(\\\"R2\\\", r2_score(y_test, y_pred))\\nprint(\\\"MSE\\\", mean_squared_error(y_test, y_pred))\\nprint(\\\"MAE\\\", mean_absolute_error(y_test, y_pred))\";\n",
       "                var nbb_cells = Jupyter.notebook.get_cells();\n",
       "                for (var i = 0; i < nbb_cells.length; ++i) {\n",
       "                    if (nbb_cells[i].input_prompt_number == nbb_cell_id) {\n",
       "                        if (nbb_cells[i].get_text() == nbb_unformatted_code) {\n",
       "                             nbb_cells[i].set_text(nbb_formatted_code);\n",
       "                        }\n",
       "                        break;\n",
       "                    }\n",
       "                }\n",
       "            }, 500);\n",
       "            "
      ],
      "text/plain": [
       "<IPython.core.display.Javascript object>"
      ]
     },
     "metadata": {},
     "output_type": "display_data"
    }
   ],
   "source": [
    "# generate predictions and look at key performance metrics\n",
    "y_pred = model_pipeline.predict(X_test)\n",
    "print(\"R2\", r2_score(y_test, y_pred))\n",
    "print(\"MSE\", mean_squared_error(y_test, y_pred))\n",
    "print(\"MAE\", mean_absolute_error(y_test, y_pred))"
   ]
  },
  {
   "cell_type": "markdown",
   "metadata": {},
   "source": [
    " - [ ] **D.1 Proxy discrimination**: Have we ensured that the model does not rely on variables or proxies for variables that are unfairly discriminatory?"
   ]
  },
  {
   "cell_type": "markdown",
   "metadata": {},
   "source": [
    "Per the non-profit's request, we did not include any race variables in training our model. We want to figure out whether the model is still making decisions based on race using proxy variables that can indirectly indicate race.\n",
    "\n",
    "**Any questions before we dive into our first activity?**"
   ]
  },
  {
   "cell_type": "markdown",
   "metadata": {},
   "source": [
    "***\n",
    "### <span style=\"color:green\">*Activity*</span>\n",
    "\n",
    "> Work independently for 20-25 minutes. Start here and stop where \"end of activity\" is indicated. **We encourage you to collaborate with one another in the Teams channel!**\n",
    "\n",
    "**<span style=\"color:green\">To what extent are any of the feature variables in our model acting as proxies for race? Take some time to explore the data.</span>**\n",
    "\n",
    "<span style=\"color:green\">First, let's look for correlations between our feature variables and our race variables.</span>"
   ]
  },
  {
   "cell_type": "code",
   "execution_count": 23,
   "metadata": {},
   "outputs": [
    {
     "data": {
      "text/plain": [
       "<AxesSubplot:>"
      ]
     },
     "execution_count": 23,
     "metadata": {},
     "output_type": "execute_result"
    },
    {
     "data": {
      "image/png": "[encoded data removed]",
      "text/plain": [
       "<Figure size 720x720 with 2 Axes>"
      ]
     },
     "metadata": {
      "needs_background": "light"
     },
     "output_type": "display_data"
    },
    {
     "data": {
      "application/javascript": [
       "\n",
       "            setTimeout(function() {\n",
       "                var nbb_cell_id = 23;\n",
       "                var nbb_unformatted_code = \"corr = df_modeling.loc[:, FEATURE_VARS + race_cols].corr().loc[FEATURE_VARS, race_cols]\\n\\nplt.figure(figsize=FIGSIZE)\\nsns.heatmap(corr, vmin=-1.0, vmax=1.0, cmap=\\\"RdBu_r\\\", annot=True)\";\n",
       "                var nbb_formatted_code = \"corr = df_modeling.loc[:, FEATURE_VARS + race_cols].corr().loc[FEATURE_VARS, race_cols]\\n\\nplt.figure(figsize=FIGSIZE)\\nsns.heatmap(corr, vmin=-1.0, vmax=1.0, cmap=\\\"RdBu_r\\\", annot=True)\";\n",
       "                var nbb_cells = Jupyter.notebook.get_cells();\n",
       "                for (var i = 0; i < nbb_cells.length; ++i) {\n",
       "                    if (nbb_cells[i].input_prompt_number == nbb_cell_id) {\n",
       "                        if (nbb_cells[i].get_text() == nbb_unformatted_code) {\n",
       "                             nbb_cells[i].set_text(nbb_formatted_code);\n",
       "                        }\n",
       "                        break;\n",
       "                    }\n",
       "                }\n",
       "            }, 500);\n",
       "            "
      ],
      "text/plain": [
       "<IPython.core.display.Javascript object>"
      ]
     },
     "metadata": {},
     "output_type": "display_data"
    }
   ],
   "source": [
    "corr = df_modeling.loc[:, FEATURE_VARS + race_cols].corr().loc[FEATURE_VARS, race_cols]\n",
    "\n",
    "plt.figure(figsize=FIGSIZE)\n",
    "sns.heatmap(corr, vmin=-1.0, vmax=1.0, cmap=\"RdBu_r\", annot=True)"
   ]
  },
  {
   "cell_type": "markdown",
   "metadata": {},
   "source": [
    "**<span style=\"color:green\">Takeaways</span>** \n",
    "\n",
    "- <span style=\"color:green\">*Example takeaway:* poverty rate has a strong correlation with multiple race variables. It tends to be higher for tracts with a higher percent hispanic, and also higher but slightly less so for tracts with a higher percent African American. It tends to be lower in neighborhoods that are more white.</span>\n",
    "\n",
    "- <span style=\"color:green\">... your thoughts here ...</span>"
   ]
  },
  {
   "cell_type": "markdown",
   "metadata": {},
   "source": [
    "<span style=\"color:green\">We can use the correlation function's documentation to help with interpretation (below). You may want to look online for more details about any concepts in the documentation that you aren't familiar with, like pearson correlation coefficients.</span>"
   ]
  },
  {
   "cell_type": "code",
   "execution_count": 24,
   "metadata": {},
   "outputs": [
    {
     "data": {
      "application/javascript": [
       "\n",
       "            setTimeout(function() {\n",
       "                var nbb_cell_id = 24;\n",
       "                var nbb_unformatted_code = \"# run this to see documentation of the df.corr function\\n?df.corr\";\n",
       "                var nbb_formatted_code = \"# run this to see documentation of the df.corr function\\n?df.corr\";\n",
       "                var nbb_cells = Jupyter.notebook.get_cells();\n",
       "                for (var i = 0; i < nbb_cells.length; ++i) {\n",
       "                    if (nbb_cells[i].input_prompt_number == nbb_cell_id) {\n",
       "                        if (nbb_cells[i].get_text() == nbb_unformatted_code) {\n",
       "                             nbb_cells[i].set_text(nbb_formatted_code);\n",
       "                        }\n",
       "                        break;\n",
       "                    }\n",
       "                }\n",
       "            }, 500);\n",
       "            "
      ],
      "text/plain": [
       "<IPython.core.display.Javascript object>"
      ]
     },
     "metadata": {},
     "output_type": "display_data"
    }
   ],
   "source": [
    "# run this to see documentation of the df.corr function\n",
    "?df.corr"
   ]
  },
  {
   "cell_type": "markdown",
   "metadata": {},
   "source": [
    "<span style=\"color:green\">Your turn to code!</span>\n",
    "\n",
    "<span style=\"color:green\">We have a lot of different race variables, some of which have fairly low rates in many areas. **What happens if we create an aggregated variable for the percent of all non-white residents (`pct-non-white`)? What do the feature variable correlations look like for `pct-non-white` compared to `pct-white`, and do any patterns become clearer?** *Hint:* You can accomplish most of this by reusing code from above.</span>\n",
    "\n",
    "<span style=\"color:green\">Remember to document any substantive choices you have to make when you define the `pct-non-white` variable, and who is included.</span>"
   ]
  },
  {
   "cell_type": "code",
   "execution_count": 25,
   "metadata": {},
   "outputs": [
    {
     "data": {
      "application/javascript": [
       "\n",
       "            setTimeout(function() {\n",
       "                var nbb_cell_id = 25;\n",
       "                var nbb_unformatted_code = \"# create pct-non-white variable\\ndf_modeling[\\\"pct-non-white\\\"] = ...  ## YOUR CODE HERE\\n\\n# plot correlations to feature variables\\n\\n## YOUR CODE HERE\";\n",
       "                var nbb_formatted_code = \"# create pct-non-white variable\\ndf_modeling[\\\"pct-non-white\\\"] = ...  ## YOUR CODE HERE\\n\\n# plot correlations to feature variables\\n\\n## YOUR CODE HERE\";\n",
       "                var nbb_cells = Jupyter.notebook.get_cells();\n",
       "                for (var i = 0; i < nbb_cells.length; ++i) {\n",
       "                    if (nbb_cells[i].input_prompt_number == nbb_cell_id) {\n",
       "                        if (nbb_cells[i].get_text() == nbb_unformatted_code) {\n",
       "                             nbb_cells[i].set_text(nbb_formatted_code);\n",
       "                        }\n",
       "                        break;\n",
       "                    }\n",
       "                }\n",
       "            }, 500);\n",
       "            "
      ],
      "text/plain": [
       "<IPython.core.display.Javascript object>"
      ]
     },
     "metadata": {},
     "output_type": "display_data"
    }
   ],
   "source": [
    "# create pct-non-white variable\n",
    "df_modeling[\"pct-non-white\"] = ...  ## YOUR CODE HERE\n",
    "\n",
    "# plot correlations to feature variables\n",
    "\n",
    "## YOUR CODE HERE"
   ]
  },
  {
   "cell_type": "markdown",
   "metadata": {},
   "source": [
    "**<span style=\"color:green\">Takeaways</span>** \n",
    "\n",
    "- <span style=\"color:green\">... your thoughts here ...</span>"
   ]
  },
  {
   "cell_type": "markdown",
   "metadata": {},
   "source": [
    "<span style=\"color:green\">Another strategy is to fit a model that predicts the percent of a given race based on feature variables. If that model performs well, we know that our model predicting evictions could also make accurate inferences about racial breakdowns within tracts.</span>\n",
    "\n",
    "<span style=\"color:green\">**Below, train a model that predicts `pct-white` based on the same `FEATURE_VARS` used to train our eviction model earlier. Then assess how well the model performs, and write up a few takeaways about what that means for race proxy variables in our eviction model.** Remember, you can reuse code from earlier steps.</span>"
   ]
  },
  {
   "cell_type": "code",
   "execution_count": null,
   "metadata": {},
   "outputs": [],
   "source": [
    "# create X_train, y_train, X_test, and y_test\n",
    "# we can use the same split as before\n",
    "\n",
    "## YOUR CODE HERE"
   ]
  },
  {
   "cell_type": "code",
   "execution_count": null,
   "metadata": {},
   "outputs": [],
   "source": [
    "# train a model to predict pct-white\n",
    "\n",
    "## YOUR CODE HERE"
   ]
  },
  {
   "cell_type": "code",
   "execution_count": null,
   "metadata": {},
   "outputs": [],
   "source": [
    "# calculate simple performance metrics (R2, MSE, MAE)\n",
    "\n",
    "## YOUR CODE HERE"
   ]
  },
  {
   "cell_type": "code",
   "execution_count": null,
   "metadata": {},
   "outputs": [],
   "source": [
    "# code for any other exploration of model performance you'd like to do!"
   ]
  },
  {
   "cell_type": "markdown",
   "metadata": {},
   "source": [
    "**<span style=\"color:green\">Takeaways</span>** \n",
    "\n",
    "<span style=\"color:green\">... add your thoughts here ...</span>\n",
    "\n",
    "\n",
    "<span style=\"color:green\">**End of activity, wait for group to reconvene and discuss**</span>\n",
    "\n",
    "***"
   ]
  },
  {
   "cell_type": "markdown",
   "metadata": {},
   "source": [
    " - [ ] **D.2 Fairness across groups**: Have we tested model results for fairness with respect to different affected groups (e.g., tested for disparate error rates)?"
   ]
  },
  {
   "cell_type": "markdown",
   "metadata": {},
   "source": [
    "### <span style=\"color:green\">*Discussion*</span>\n",
    "\n",
    "<span style=\"color:green\">What are some approaches we can use to answer this question? Think about things like:</span> \n",
    "\n",
    "- <span style=\"color:green\">How does the format of the data about race impact our strategy?</span> \n",
    "\n",
    "- <span style=\"color:green\">What model performance metrics do we want to consider?</span> \n",
    "\n",
    "- <span style=\"color:green\">What visuals do we want to produce?</span>"
   ]
  },
  {
   "cell_type": "markdown",
   "metadata": {},
   "source": [
    "***\n",
    "\n",
    "### <span style=\"color:green\">*Activity*</span>\n",
    "\n",
    "> Work independently for 15-20 minutes. Start here and stop where \"end of activity\" is indicated\n",
    "\n",
    "<span style=\"color:green\">Calculate the correlation between each of the race variables in the model with error and absolute error. Remember that you can re-use code from previous sections.</span>"
   ]
  },
  {
   "cell_type": "code",
   "execution_count": null,
   "metadata": {},
   "outputs": [],
   "source": [
    "# add columns to df_test for error and absolute error\n",
    "\n",
    "## YOUR CODE HERE\n",
    "\n",
    "# calculate correlation\n",
    "\n",
    "## YOUR CODE HERE\n",
    "\n",
    "# plot correlation heatmap\n",
    "\n",
    "## YOUR CODE HERE"
   ]
  },
  {
   "cell_type": "markdown",
   "metadata": {},
   "source": [
    "**<span style=\"color:green\">Takeaways</span>** \n",
    "\n",
    "- <span style=\"color:green\">... add your thoughts here ...</span>"
   ]
  },
  {
   "cell_type": "markdown",
   "metadata": {},
   "source": [
    "<span style=\"color:green\">Generate at least one other visual that helps to compare error rates between different racial groups. You could also explore another method of determining whether error is dependent on race percentages, such as fitting another model.</span>"
   ]
  },
  {
   "cell_type": "code",
   "execution_count": null,
   "metadata": {},
   "outputs": [],
   "source": [
    "## YOUR CODE HERE"
   ]
  },
  {
   "cell_type": "markdown",
   "metadata": {},
   "source": [
    "<span style=\"color:green\">**End of activity, wait for group to reconvene and discuss**</span>\n",
    "\n",
    "***"
   ]
  },
  {
   "cell_type": "markdown",
   "metadata": {},
   "source": [
    " - [ ] **D.3 Metric selection**: Have we considered the effects of optimizing for our defined metrics and considered additional metrics?"
   ]
  },
  {
   "cell_type": "markdown",
   "metadata": {},
   "source": [
    "In the Random Forest model above, we used `mse` (mean-squared error) as the loss function. Mean-squared error is affected more by outliers than mean-absolute error. We won't go into metric selection in detail in this exercise."
   ]
  },
  {
   "cell_type": "markdown",
   "metadata": {},
   "source": [
    " - [ ] **D.4 Explainability**: Can we explain in understandable terms a decision the model made in cases where a justification is needed?"
   ]
  },
  {
   "cell_type": "markdown",
   "metadata": {},
   "source": [
    "We won't go into explainability in detail in this exercise."
   ]
  },
  {
   "cell_type": "code",
   "execution_count": null,
   "metadata": {},
   "outputs": [],
   "source": [
    "model_pipeline.named_steps[\"model\"].feature_importances_\n",
    "feature_importance = pd.DataFrame.from_dict(\n",
    "    {\n",
    "        \"features\": FEATURE_VARS,\n",
    "        \"importance\": model_pipeline.named_steps[\"model\"].feature_importances_,\n",
    "    }\n",
    ")\n",
    "print(\n",
    "    feature_importance.sort_values(\"importance\", ascending=False).reset_index(drop=True)\n",
    ")"
   ]
  },
  {
   "cell_type": "markdown",
   "metadata": {},
   "source": [
    " - [ ] **D.5 Communicate bias**: Have we communicated the shortcomings, limitations, and biases of the model to relevant stakeholders in ways that can be generally understood?"
   ]
  },
  {
   "cell_type": "markdown",
   "metadata": {},
   "source": [
    "We won't go into communicate bias in detail in this exercise."
   ]
  },
  {
   "cell_type": "markdown",
   "metadata": {},
   "source": [
    "## E. Deployment"
   ]
  },
  {
   "cell_type": "markdown",
   "metadata": {},
   "source": [
    " - [ ] **E.1 Monitoring and evaluation:** How are we planning to monitor the model and its impacts after it is deployed (e.g., performance monitoring, regular audit of sample predictions, human review of high-stakes decisions, reviewing downstream impacts of errors or low-confidence decisions, testing for concept drift)?"
   ]
  },
  {
   "cell_type": "markdown",
   "metadata": {},
   "source": [
    " - [ ] **E.2 Redress**: Have we discussed with our organization a plan for response if users are harmed by the results (e.g., how does the data science team evaluate these cases and update analysis and models to prevent future harm)?"
   ]
  },
  {
   "cell_type": "markdown",
   "metadata": {},
   "source": [
    "### <span style=\"color:green\">*Discussion*</span>\n",
    "\n",
    "\n",
    "<span style=\"color:green\">*E.1 and E.2:* Think about how you could monitor/evaluate the model moving forward, and put steps for redress in place.</span>\n",
    "\n",
    "- <span style=\"color:green\">What are some possible real-world consequences of the model performing poorly / making mistakes? What is the potential harm or inequity from incorrect model estimates?</span>\n",
    "\n",
    "- <span style=\"color:green\">How might you determine what the performance cutoff is for the model being good enough to use in practice?</span>\n",
    "\n",
    "- <span style=\"color:green\">What metric could you use for the above? What are some of the pros and cons of different matrics? Think about the consequences of false positives vs. false negatives in practice. Is one less desirable than the other, and how can that be reflected in your metric?</span>\n",
    "\n",
    "- <span style=\"color:green\">If/when the model is deployed in practice, will there be any human review of the model's decisions? In which cases will there be human review, and how will that be integrated?</span>"
   ]
  },
  {
   "cell_type": "markdown",
   "metadata": {},
   "source": [
    " - [ ] **E.3 Roll back**: Is there a way to turn off or roll back the model in production if necessary?"
   ]
  },
  {
   "cell_type": "markdown",
   "metadata": {},
   "source": [
    "We won't go into roll back in detail in this exercise."
   ]
  },
  {
   "cell_type": "markdown",
   "metadata": {},
   "source": [
    " - [ ] **E.4 Unintended use**: Have we taken steps to identify and prevent unintended uses and abuse of the model and do we have a plan to monitor these once the model is deployed?"
   ]
  },
  {
   "cell_type": "markdown",
   "metadata": {},
   "source": [
    "We won't go into unintended use in detail in this exercise."
   ]
  },
  {
   "cell_type": "markdown",
   "metadata": {},
   "source": [
    "*Data Science Ethics Checklist generated with [deon](http://deon.drivendata.org).*"
   ]
  },
  {
   "cell_type": "code",
   "execution_count": null,
   "metadata": {},
   "outputs": [],
   "source": []
  }
 ],
 "metadata": {
  "kernelspec": {
   "display_name": "Python 3 (ipykernel)",
   "language": "python",
   "name": "python3"
  },
  "language_info": {
   "codemirror_mode": {
    "name": "ipython",
    "version": 3
   },
   "file_extension": ".py",
   "mimetype": "text/x-python",
   "name": "python",
   "nbconvert_exporter": "python",
   "pygments_lexer": "ipython3",
   "version": "3.8.13"
  }
 },
 "nbformat": 4,
 "nbformat_minor": 4
}
